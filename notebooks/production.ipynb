{
 "cells": [
  {
   "cell_type": "code",
   "execution_count": 1,
   "metadata": {},
   "outputs": [
    {
     "data": {
      "text/html": [
       "        <script type=\"text/javascript\">\n",
       "        window.PlotlyConfig = {MathJaxConfig: 'local'};\n",
       "        if (window.MathJax && window.MathJax.Hub && window.MathJax.Hub.Config) {window.MathJax.Hub.Config({SVG: {font: \"STIX-Web\"}});}\n",
       "        if (typeof require !== 'undefined') {\n",
       "        require.undef(\"plotly\");\n",
       "        requirejs.config({\n",
       "            paths: {\n",
       "                'plotly': ['https://cdn.plot.ly/plotly-2.27.0.min']\n",
       "            }\n",
       "        });\n",
       "        require(['plotly'], function(Plotly) {\n",
       "            window._Plotly = Plotly;\n",
       "        });\n",
       "        }\n",
       "        </script>\n",
       "        "
      ]
     },
     "metadata": {},
     "output_type": "display_data"
    }
   ],
   "source": [
    "import os\n",
    "import pandas as pd\n",
    "import numpy as np\n",
    "import math\n",
    "from datetime import datetime\n",
    "import datetime as dt\n",
    "import tensorflow as tf\n",
    "from tensorflow import keras\n",
    "from keras.layers import GRU, Dropout, SimpleRNN, LSTM, Dense, SimpleRNN, GRU\n",
    "from keras.models import Sequential\n",
    "from sklearn.preprocessing import MinMaxScaler\n",
    "import torch\n",
    "import torch.nn as nn\n",
    "\n",
    "import plotly as py\n",
    "import plotly.io as pio\n",
    "\n",
    "# Mute sklearn warnings\n",
    "from warnings import simplefilter\n",
    "simplefilter(action='ignore', category=FutureWarning)\n",
    "simplefilter(action='ignore', category=DeprecationWarning)\n",
    "\n",
    "from plotly.offline import init_notebook_mode\n",
    "\n",
    "# Show charts when running kernel\n",
    "init_notebook_mode(connected=True)\n",
    "\n",
    "from sklearn.metrics import mean_squared_error, mean_absolute_error, explained_variance_score, r2_score \n",
    "from sklearn.metrics import mean_poisson_deviance, mean_gamma_deviance, accuracy_score\n",
    "from sklearn.preprocessing import MinMaxScaler\n",
    "\n",
    "from itertools import cycle\n",
    "import plotly.graph_objects as go\n",
    "import plotly.express as px\n",
    "from plotly.subplots import make_subplots\n",
    "from plotly.offline import download_plotlyjs, init_notebook_mode, plot, iplot\n",
    "\n",
    "import seaborn as sns\n",
    "import matplotlib.pyplot as plt\n",
    "from colorama import Fore"
   ]
  },
  {
   "cell_type": "code",
   "execution_count": 2,
   "metadata": {},
   "outputs": [
    {
     "name": "stdout",
     "output_type": "stream",
     "text": [
      "State: AK\n",
      "  Energy Source: Coal, Renewable: False, Generation (MWh): 752894.0\n",
      "  Energy Source: Hydroelectric Conventional, Renewable: True, Generation (MWh): 1688900.0\n",
      "  Energy Source: Natural Gas, Renewable: False, Generation (MWh): 3085396.0\n",
      "  Energy Source: Other, Renewable: False, Generation (MWh): -4141.0\n",
      "  Energy Source: Other Biomass, Renewable: True, Generation (MWh): 38071.0\n",
      "  Energy Source: Petroleum, Renewable: False, Generation (MWh): 902486.0\n",
      "  Energy Source: Solar Thermal and Photovoltaic, Renewable: True, Generation (MWh): 0.0\n",
      "  Energy Source: Total, Renewable: False, Generation (MWh): 6595818.0\n",
      "  Energy Source: Wind, Renewable: True, Generation (MWh): 132212.0\n",
      "  Energy Source: Wood and Wood Derived Fuels, Renewable: True, Generation (MWh): 0.0\n",
      "  Percentage of Renewable Energy: 28.19%\n",
      "\n",
      "State: AL\n",
      "  Energy Source: Coal, Renewable: False, Generation (MWh): 26900909.0\n",
      "  Energy Source: Hydroelectric Conventional, Renewable: True, Generation (MWh): 11520809.0\n",
      "  Energy Source: Natural Gas, Renewable: False, Generation (MWh): 54447875.0\n",
      "  Energy Source: Nuclear, Renewable: False, Generation (MWh): 46036489.0\n",
      "  Energy Source: Other, Renewable: False, Generation (MWh): 28.0\n",
      "  Energy Source: Other Biomass, Renewable: True, Generation (MWh): 43940.0\n",
      "  Energy Source: Other Gases, Renewable: False, Generation (MWh): 65.0\n",
      "  Energy Source: Petroleum, Renewable: False, Generation (MWh): 21915.0\n",
      "  Energy Source: Solar Thermal and Photovoltaic, Renewable: True, Generation (MWh): 493995.0\n",
      "  Energy Source: Total, Renewable: False, Generation (MWh): 142733330.0\n",
      "  Energy Source: Wood and Wood Derived Fuels, Renewable: True, Generation (MWh): 3267305.0\n",
      "  Percentage of Renewable Energy: 10.74%\n",
      "\n",
      "State: AR\n",
      "  Energy Source: Coal, Renewable: False, Generation (MWh): 21418877.0\n",
      "  Energy Source: Hydroelectric Conventional, Renewable: True, Generation (MWh): 4028679.0\n",
      "  Energy Source: Natural Gas, Renewable: False, Generation (MWh): 20629134.0\n",
      "  Energy Source: Nuclear, Renewable: False, Generation (MWh): 13555684.0\n",
      "  Energy Source: Other, Renewable: False, Generation (MWh): 7572.0\n",
      "  Energy Source: Other Biomass, Renewable: True, Generation (MWh): 61417.0\n",
      "  Energy Source: Petroleum, Renewable: False, Generation (MWh): 55532.0\n",
      "  Energy Source: Pumped Storage, Renewable: True, Generation (MWh): 83706.0\n",
      "  Energy Source: Solar Thermal and Photovoltaic, Renewable: True, Generation (MWh): 462281.0\n",
      "  Energy Source: Total, Renewable: False, Generation (MWh): 61100068.0\n",
      "  Energy Source: Wood and Wood Derived Fuels, Renewable: True, Generation (MWh): 797187.0\n",
      "  Percentage of Renewable Energy: 8.89%\n",
      "\n",
      "State: AZ\n",
      "  Energy Source: Coal, Renewable: False, Generation (MWh): 14300572.0\n",
      "  Energy Source: Hydroelectric Conventional, Renewable: True, Generation (MWh): 5972854.0\n",
      "  Energy Source: Natural Gas, Renewable: False, Generation (MWh): 48053133.0\n",
      "  Energy Source: Nuclear, Renewable: False, Generation (MWh): 31629862.0\n",
      "  Energy Source: Other, Renewable: False, Generation (MWh): -7543.0\n",
      "  Energy Source: Other Biomass, Renewable: True, Generation (MWh): 19470.0\n",
      "  Energy Source: Petroleum, Renewable: False, Generation (MWh): 43534.0\n",
      "  Energy Source: Pumped Storage, Renewable: True, Generation (MWh): 90895.0\n",
      "  Energy Source: Solar Thermal and Photovoltaic, Renewable: True, Generation (MWh): 6710877.0\n",
      "  Energy Source: Total, Renewable: False, Generation (MWh): 108604620.0\n",
      "  Energy Source: Wind, Renewable: True, Generation (MWh): 1600319.0\n",
      "  Energy Source: Wood and Wood Derived Fuels, Renewable: True, Generation (MWh): 190646.0\n",
      "  Percentage of Renewable Energy: 13.43%\n",
      "\n",
      "State: CA\n",
      "  Energy Source: Coal, Renewable: False, Generation (MWh): 294154.0\n",
      "  Energy Source: Geothermal, Renewable: True, Generation (MWh): 11127544.0\n",
      "  Energy Source: Hydroelectric Conventional, Renewable: True, Generation (MWh): 14677580.0\n",
      "  Energy Source: Natural Gas, Renewable: False, Generation (MWh): 97427092.0\n",
      "  Energy Source: Nuclear, Renewable: False, Generation (MWh): 16477366.0\n",
      "  Energy Source: Other, Renewable: False, Generation (MWh): 575895.0\n",
      "  Energy Source: Other Biomass, Renewable: True, Generation (MWh): 2574350.0\n",
      "  Energy Source: Other Gases, Renewable: False, Generation (MWh): 1368920.0\n",
      "  Energy Source: Petroleum, Renewable: False, Generation (MWh): 76998.0\n",
      "  Energy Source: Pumped Storage, Renewable: True, Generation (MWh): -317434.0\n",
      "  Energy Source: Solar Thermal and Photovoltaic, Renewable: True, Generation (MWh): 34863922.0\n",
      "  Energy Source: Total, Renewable: False, Generation (MWh): 197165106.0\n",
      "  Energy Source: Wind, Renewable: True, Generation (MWh): 15177006.0\n",
      "  Energy Source: Wood and Wood Derived Fuels, Renewable: True, Generation (MWh): 2841712.0\n",
      "  Percentage of Renewable Energy: 41.05%\n",
      "\n",
      "State: CO\n",
      "  Energy Source: Coal, Renewable: False, Generation (MWh): 23602042.0\n",
      "  Energy Source: Hydroelectric Conventional, Renewable: True, Generation (MWh): 1598310.0\n",
      "  Energy Source: Natural Gas, Renewable: False, Generation (MWh): 14559773.0\n",
      "  Energy Source: Other, Renewable: False, Generation (MWh): 54858.0\n",
      "  Energy Source: Other Biomass, Renewable: True, Generation (MWh): 74231.0\n",
      "  Energy Source: Other Gases, Renewable: False, Generation (MWh): 6452.0\n",
      "  Energy Source: Petroleum, Renewable: False, Generation (MWh): 27809.0\n",
      "  Energy Source: Pumped Storage, Renewable: True, Generation (MWh): -35500.0\n",
      "  Energy Source: Solar Thermal and Photovoltaic, Renewable: True, Generation (MWh): 1729948.0\n",
      "  Energy Source: Total, Renewable: False, Generation (MWh): 56838472.0\n",
      "  Energy Source: Wind, Renewable: True, Generation (MWh): 15125697.0\n",
      "  Energy Source: Wood and Wood Derived Fuels, Renewable: True, Generation (MWh): 94851.0\n",
      "  Percentage of Renewable Energy: 32.70%\n",
      "\n",
      "State: CT\n",
      "  Energy Source: Coal, Renewable: False, Generation (MWh): 244647.0\n",
      "  Energy Source: Hydroelectric Conventional, Renewable: True, Generation (MWh): 477571.0\n",
      "  Energy Source: Natural Gas, Renewable: False, Generation (MWh): 24488902.0\n",
      "  Energy Source: Nuclear, Renewable: False, Generation (MWh): 17216509.0\n",
      "  Energy Source: Other, Renewable: False, Generation (MWh): 571132.0\n",
      "  Energy Source: Other Biomass, Renewable: True, Generation (MWh): 473999.0\n",
      "  Energy Source: Petroleum, Renewable: False, Generation (MWh): 45950.0\n",
      "  Energy Source: Pumped Storage, Renewable: True, Generation (MWh): 433.0\n",
      "  Energy Source: Solar Thermal and Photovoltaic, Renewable: True, Generation (MWh): 265188.0\n",
      "  Energy Source: Total, Renewable: False, Generation (MWh): 44079943.0\n",
      "  Energy Source: Wind, Renewable: True, Generation (MWh): 12758.0\n",
      "  Energy Source: Wood and Wood Derived Fuels, Renewable: True, Generation (MWh): 282855.0\n",
      "  Percentage of Renewable Energy: 3.43%\n",
      "\n",
      "State: DC\n",
      "  Energy Source: Natural Gas, Renewable: False, Generation (MWh): 137072.0\n",
      "  Energy Source: Other Biomass, Renewable: True, Generation (MWh): 55721.0\n",
      "  Energy Source: Petroleum, Renewable: False, Generation (MWh): 38.0\n",
      "  Energy Source: Solar Thermal and Photovoltaic, Renewable: True, Generation (MWh): 18269.0\n",
      "  Energy Source: Total, Renewable: False, Generation (MWh): 211101.0\n",
      "  Percentage of Renewable Energy: 35.05%\n",
      "\n",
      "State: DE\n",
      "  Energy Source: Coal, Renewable: False, Generation (MWh): 276729.0\n",
      "  Energy Source: Natural Gas, Renewable: False, Generation (MWh): 3734203.0\n",
      "  Energy Source: Other Biomass, Renewable: True, Generation (MWh): 73648.0\n",
      "  Energy Source: Other Gases, Renewable: False, Generation (MWh): 141823.0\n",
      "  Energy Source: Petroleum, Renewable: False, Generation (MWh): 16747.0\n",
      "  Energy Source: Solar Thermal and Photovoltaic, Renewable: True, Generation (MWh): 57126.0\n",
      "  Energy Source: Total, Renewable: False, Generation (MWh): 4305126.0\n",
      "  Energy Source: Wind, Renewable: True, Generation (MWh): 4849.0\n",
      "  Percentage of Renewable Energy: 3.15%\n",
      "\n",
      "State: FL\n",
      "  Energy Source: Coal, Renewable: False, Generation (MWh): 18384804.0\n",
      "  Energy Source: Hydroelectric Conventional, Renewable: True, Generation (MWh): 251607.0\n",
      "  Energy Source: Natural Gas, Renewable: False, Generation (MWh): 182619846.0\n",
      "  Energy Source: Nuclear, Renewable: False, Generation (MWh): 29514894.0\n",
      "  Energy Source: Other, Renewable: False, Generation (MWh): 2697079.0\n",
      "  Energy Source: Other Biomass, Renewable: True, Generation (MWh): 2081285.0\n",
      "  Energy Source: Other Gases, Renewable: False, Generation (MWh): 141.0\n",
      "  Energy Source: Petroleum, Renewable: False, Generation (MWh): 1162018.0\n",
      "  Energy Source: Solar Thermal and Photovoltaic, Renewable: True, Generation (MWh): 9048715.0\n",
      "  Energy Source: Total, Renewable: False, Generation (MWh): 247906982.0\n",
      "  Energy Source: Wood and Wood Derived Fuels, Renewable: True, Generation (MWh): 2146592.0\n",
      "  Percentage of Renewable Energy: 5.46%\n",
      "\n",
      "State: GA\n",
      "  Energy Source: Coal, Renewable: False, Generation (MWh): 19076184.0\n",
      "  Energy Source: Hydroelectric Conventional, Renewable: True, Generation (MWh): 3661043.0\n",
      "  Energy Source: Natural Gas, Renewable: False, Generation (MWh): 56673115.0\n",
      "  Energy Source: Nuclear, Renewable: False, Generation (MWh): 33951976.0\n",
      "  Energy Source: Other, Renewable: False, Generation (MWh): 78958.0\n",
      "  Energy Source: Other Biomass, Renewable: True, Generation (MWh): 324305.0\n",
      "  Energy Source: Petroleum, Renewable: False, Generation (MWh): 179031.0\n",
      "  Energy Source: Pumped Storage, Renewable: True, Generation (MWh): -133728.0\n",
      "  Energy Source: Solar Thermal and Photovoltaic, Renewable: True, Generation (MWh): 4868365.0\n",
      "  Energy Source: Total, Renewable: False, Generation (MWh): 124200528.0\n",
      "  Energy Source: Wood and Wood Derived Fuels, Renewable: True, Generation (MWh): 5521280.0\n",
      "  Percentage of Renewable Energy: 11.47%\n",
      "\n",
      "State: HI\n",
      "  Energy Source: Coal, Renewable: False, Generation (MWh): 1084555.0\n",
      "  Energy Source: Geothermal, Renewable: True, Generation (MWh): 183751.0\n",
      "  Energy Source: Hydroelectric Conventional, Renewable: True, Generation (MWh): 114971.0\n",
      "  Energy Source: Other, Renewable: False, Generation (MWh): 195944.0\n",
      "  Energy Source: Other Biomass, Renewable: True, Generation (MWh): 282637.0\n",
      "  Energy Source: Other Gases, Renewable: False, Generation (MWh): 0.0\n",
      "  Energy Source: Petroleum, Renewable: False, Generation (MWh): 6155207.0\n",
      "  Energy Source: Solar Thermal and Photovoltaic, Renewable: True, Generation (MWh): 507234.0\n",
      "  Energy Source: Total, Renewable: False, Generation (MWh): 9182191.0\n",
      "  Energy Source: Wind, Renewable: True, Generation (MWh): 657891.0\n",
      "  Energy Source: Wood and Wood Derived Fuels, Renewable: True, Generation (MWh): 0.0\n",
      "  Percentage of Renewable Energy: 19.02%\n",
      "\n",
      "State: IA\n",
      "  Energy Source: Coal, Renewable: False, Generation (MWh): 22106594.0\n",
      "  Energy Source: Hydroelectric Conventional, Renewable: True, Generation (MWh): 980071.0\n",
      "  Energy Source: Natural Gas, Renewable: False, Generation (MWh): 6463644.0\n",
      "  Energy Source: Other, Renewable: False, Generation (MWh): -76.0\n",
      "  Energy Source: Other Biomass, Renewable: True, Generation (MWh): 201142.0\n",
      "  Energy Source: Petroleum, Renewable: False, Generation (MWh): 132112.0\n",
      "  Energy Source: Solar Thermal and Photovoltaic, Renewable: True, Generation (MWh): 224906.0\n",
      "  Energy Source: Total, Renewable: False, Generation (MWh): 67207008.0\n",
      "  Energy Source: Wind, Renewable: True, Generation (MWh): 37098274.0\n",
      "  Energy Source: Wood and Wood Derived Fuels, Renewable: True, Generation (MWh): 341.0\n",
      "  Percentage of Renewable Energy: 57.29%\n",
      "\n",
      "State: ID\n",
      "  Energy Source: Coal, Renewable: False, Generation (MWh): 16115.0\n",
      "  Energy Source: Geothermal, Renewable: True, Generation (MWh): 92941.0\n",
      "  Energy Source: Hydroelectric Conventional, Renewable: True, Generation (MWh): 7995217.0\n",
      "  Energy Source: Natural Gas, Renewable: False, Generation (MWh): 4935454.0\n",
      "  Energy Source: Other, Renewable: False, Generation (MWh): 61911.0\n",
      "  Energy Source: Other Biomass, Renewable: True, Generation (MWh): 96064.0\n",
      "  Energy Source: Petroleum, Renewable: False, Generation (MWh): 152.0\n",
      "  Energy Source: Solar Thermal and Photovoltaic, Renewable: True, Generation (MWh): 564869.0\n",
      "  Energy Source: Total, Renewable: False, Generation (MWh): 16836473.0\n",
      "  Energy Source: Wind, Renewable: True, Generation (MWh): 2680206.0\n",
      "  Energy Source: Wood and Wood Derived Fuels, Renewable: True, Generation (MWh): 393543.0\n",
      "  Percentage of Renewable Energy: 70.22%\n",
      "\n",
      "State: IL\n",
      "  Energy Source: Coal, Renewable: False, Generation (MWh): 43298080.0\n",
      "  Energy Source: Hydroelectric Conventional, Renewable: True, Generation (MWh): 128565.0\n",
      "  Energy Source: Natural Gas, Renewable: False, Generation (MWh): 20664598.0\n",
      "  Energy Source: Nuclear, Renewable: False, Generation (MWh): 96994458.0\n",
      "  Energy Source: Other, Renewable: False, Generation (MWh): 245734.0\n",
      "  Energy Source: Other Biomass, Renewable: True, Generation (MWh): 364454.0\n",
      "  Energy Source: Other Gases, Renewable: False, Generation (MWh): 241516.0\n",
      "  Energy Source: Petroleum, Renewable: False, Generation (MWh): 53970.0\n",
      "  Energy Source: Solar Thermal and Photovoltaic, Renewable: True, Generation (MWh): 513112.0\n",
      "  Energy Source: Total, Renewable: False, Generation (MWh): 181637574.0\n",
      "  Energy Source: Wind, Renewable: True, Generation (MWh): 19133088.0\n",
      "  Energy Source: Wood and Wood Derived Fuels, Renewable: True, Generation (MWh): 0.0\n",
      "  Percentage of Renewable Energy: 11.09%\n",
      "\n",
      "State: IN\n",
      "  Energy Source: Coal, Renewable: False, Generation (MWh): 54447943.0\n",
      "  Energy Source: Hydroelectric Conventional, Renewable: True, Generation (MWh): 387030.0\n",
      "  Energy Source: Natural Gas, Renewable: False, Generation (MWh): 27599551.0\n",
      "  Energy Source: Other, Renewable: False, Generation (MWh): 489360.0\n",
      "  Energy Source: Other Biomass, Renewable: True, Generation (MWh): 428995.0\n",
      "  Energy Source: Other Gases, Renewable: False, Generation (MWh): 2254362.0\n",
      "  Energy Source: Petroleum, Renewable: False, Generation (MWh): 127812.0\n",
      "  Energy Source: Solar Thermal and Photovoltaic, Renewable: True, Generation (MWh): 572757.0\n",
      "  Energy Source: Total, Renewable: False, Generation (MWh): 94164796.0\n",
      "  Energy Source: Wind, Renewable: True, Generation (MWh): 7856985.0\n",
      "  Energy Source: Wood and Wood Derived Fuels, Renewable: True, Generation (MWh): 0.0\n",
      "  Percentage of Renewable Energy: 9.82%\n",
      "\n",
      "State: KS\n",
      "  Energy Source: Coal, Renewable: False, Generation (MWh): 19396169.0\n",
      "  Energy Source: Hydroelectric Conventional, Renewable: True, Generation (MWh): 29947.0\n",
      "  Energy Source: Natural Gas, Renewable: False, Generation (MWh): 2662209.0\n",
      "  Energy Source: Nuclear, Renewable: False, Generation (MWh): 8574732.0\n",
      "  Energy Source: Other, Renewable: False, Generation (MWh): 4978.0\n",
      "  Energy Source: Other Biomass, Renewable: True, Generation (MWh): 58715.0\n",
      "  Energy Source: Petroleum, Renewable: False, Generation (MWh): 149201.0\n",
      "  Energy Source: Solar Thermal and Photovoltaic, Renewable: True, Generation (MWh): 61058.0\n",
      "  Energy Source: Total, Renewable: False, Generation (MWh): 56630703.0\n",
      "  Energy Source: Wind, Renewable: True, Generation (MWh): 25693695.0\n",
      "  Percentage of Renewable Energy: 45.63%\n",
      "\n",
      "State: KY\n",
      "  Energy Source: Coal, Renewable: False, Generation (MWh): 49862729.0\n",
      "  Energy Source: Hydroelectric Conventional, Renewable: True, Generation (MWh): 4876457.0\n",
      "  Energy Source: Natural Gas, Renewable: False, Generation (MWh): 14571980.0\n",
      "  Energy Source: Other, Renewable: False, Generation (MWh): 70430.0\n",
      "  Energy Source: Other Biomass, Renewable: True, Generation (MWh): 115172.0\n",
      "  Energy Source: Petroleum, Renewable: False, Generation (MWh): 66090.0\n",
      "  Energy Source: Solar Thermal and Photovoltaic, Renewable: True, Generation (MWh): 45989.0\n",
      "  Energy Source: Total, Renewable: False, Generation (MWh): 69908411.0\n",
      "  Energy Source: Wood and Wood Derived Fuels, Renewable: True, Generation (MWh): 299564.0\n",
      "  Percentage of Renewable Energy: 7.63%\n",
      "\n",
      "State: LA\n",
      "  Energy Source: Coal, Renewable: False, Generation (MWh): 7872951.0\n",
      "  Energy Source: Hydroelectric Conventional, Renewable: True, Generation (MWh): 1109178.0\n",
      "  Energy Source: Natural Gas, Renewable: False, Generation (MWh): 63961174.0\n",
      "  Energy Source: Nuclear, Renewable: False, Generation (MWh): 17248674.0\n",
      "  Energy Source: Other, Renewable: False, Generation (MWh): 550230.0\n",
      "  Energy Source: Other Biomass, Renewable: True, Generation (MWh): 83621.0\n",
      "  Energy Source: Other Gases, Renewable: False, Generation (MWh): 1790932.0\n",
      "  Energy Source: Petroleum, Renewable: False, Generation (MWh): 3895714.0\n",
      "  Energy Source: Solar Thermal and Photovoltaic, Renewable: True, Generation (MWh): 146393.0\n",
      "  Energy Source: Total, Renewable: False, Generation (MWh): 98715313.0\n",
      "  Energy Source: Wood and Wood Derived Fuels, Renewable: True, Generation (MWh): 2056446.0\n",
      "  Percentage of Renewable Energy: 3.44%\n",
      "\n",
      "State: MA\n",
      "  Energy Source: Coal, Renewable: False, Generation (MWh): 0.0\n",
      "  Energy Source: Hydroelectric Conventional, Renewable: True, Generation (MWh): 1117514.0\n",
      "  Energy Source: Natural Gas, Renewable: False, Generation (MWh): 15009932.0\n",
      "  Energy Source: Other, Renewable: False, Generation (MWh): 924058.0\n",
      "  Energy Source: Other Biomass, Renewable: True, Generation (MWh): 902720.0\n",
      "  Energy Source: Petroleum, Renewable: False, Generation (MWh): 81147.0\n",
      "  Energy Source: Pumped Storage, Renewable: True, Generation (MWh): -424247.0\n",
      "  Energy Source: Solar Thermal and Photovoltaic, Renewable: True, Generation (MWh): 1587405.0\n",
      "  Energy Source: Total, Renewable: False, Generation (MWh): 19477347.0\n",
      "  Energy Source: Wind, Renewable: True, Generation (MWh): 208626.0\n",
      "  Energy Source: Wood and Wood Derived Fuels, Renewable: True, Generation (MWh): 70191.0\n",
      "  Percentage of Renewable Energy: 17.78%\n",
      "\n",
      "State: MD\n",
      "  Energy Source: Coal, Renewable: False, Generation (MWh): 5173979.0\n",
      "  Energy Source: Hydroelectric Conventional, Renewable: True, Generation (MWh): 2117149.0\n",
      "  Energy Source: Natural Gas, Renewable: False, Generation (MWh): 13977171.0\n",
      "  Energy Source: Nuclear, Renewable: False, Generation (MWh): 14993633.0\n",
      "  Energy Source: Other, Renewable: False, Generation (MWh): 376221.0\n",
      "  Energy Source: Other Biomass, Renewable: True, Generation (MWh): 366363.0\n",
      "  Energy Source: Petroleum, Renewable: False, Generation (MWh): 72669.0\n",
      "  Energy Source: Solar Thermal and Photovoltaic, Renewable: True, Generation (MWh): 632049.0\n",
      "  Energy Source: Total, Renewable: False, Generation (MWh): 38235137.0\n",
      "  Energy Source: Wind, Renewable: True, Generation (MWh): 517431.0\n",
      "  Energy Source: Wood and Wood Derived Fuels, Renewable: True, Generation (MWh): 8473.0\n",
      "  Percentage of Renewable Energy: 9.52%\n",
      "\n",
      "State: ME\n",
      "  Energy Source: Coal, Renewable: False, Generation (MWh): 49996.0\n",
      "  Energy Source: Hydroelectric Conventional, Renewable: True, Generation (MWh): 2540905.0\n",
      "  Energy Source: Natural Gas, Renewable: False, Generation (MWh): 3347672.0\n",
      "  Energy Source: Other, Renewable: False, Generation (MWh): 267417.0\n",
      "  Energy Source: Other Biomass, Renewable: True, Generation (MWh): 103166.0\n",
      "  Energy Source: Petroleum, Renewable: False, Generation (MWh): 31605.0\n",
      "  Energy Source: Solar Thermal and Photovoltaic, Renewable: True, Generation (MWh): 157564.0\n",
      "  Energy Source: Total, Renewable: False, Generation (MWh): 10908150.0\n",
      "  Energy Source: Wind, Renewable: True, Generation (MWh): 2544197.0\n",
      "  Energy Source: Wood and Wood Derived Fuels, Renewable: True, Generation (MWh): 1865627.0\n",
      "  Percentage of Renewable Energy: 66.11%\n",
      "\n",
      "State: MI\n",
      "  Energy Source: Coal, Renewable: False, Generation (MWh): 37053903.0\n",
      "  Energy Source: Hydroelectric Conventional, Renewable: True, Generation (MWh): 1339764.0\n",
      "  Energy Source: Natural Gas, Renewable: False, Generation (MWh): 30512718.0\n",
      "  Energy Source: Nuclear, Renewable: False, Generation (MWh): 34338319.0\n",
      "  Energy Source: Other, Renewable: False, Generation (MWh): 143008.0\n",
      "  Energy Source: Other Biomass, Renewable: True, Generation (MWh): 907355.0\n",
      "  Energy Source: Other Gases, Renewable: False, Generation (MWh): 1201754.0\n",
      "  Energy Source: Petroleum, Renewable: False, Generation (MWh): 1149522.0\n",
      "  Energy Source: Pumped Storage, Renewable: True, Generation (MWh): -715146.0\n",
      "  Energy Source: Solar Thermal and Photovoltaic, Renewable: True, Generation (MWh): 423805.0\n",
      "  Energy Source: Total, Renewable: False, Generation (MWh): 115513130.0\n",
      "  Energy Source: Wind, Renewable: True, Generation (MWh): 7696887.0\n",
      "  Energy Source: Wood and Wood Derived Fuels, Renewable: True, Generation (MWh): 1461241.0\n",
      "  Percentage of Renewable Energy: 9.62%\n",
      "\n",
      "State: MN\n",
      "  Energy Source: Coal, Renewable: False, Generation (MWh): 15764275.0\n",
      "  Energy Source: Hydroelectric Conventional, Renewable: True, Generation (MWh): 679125.0\n",
      "  Energy Source: Natural Gas, Renewable: False, Generation (MWh): 12790625.0\n",
      "  Energy Source: Nuclear, Renewable: False, Generation (MWh): 14122771.0\n",
      "  Energy Source: Other, Renewable: False, Generation (MWh): 313214.0\n",
      "  Energy Source: Other Biomass, Renewable: True, Generation (MWh): 313623.0\n",
      "  Energy Source: Petroleum, Renewable: False, Generation (MWh): 105131.0\n",
      "  Energy Source: Solar Thermal and Photovoltaic, Renewable: True, Generation (MWh): 1893473.0\n",
      "  Energy Source: Total, Renewable: False, Generation (MWh): 59195769.0\n",
      "  Energy Source: Wind, Renewable: True, Generation (MWh): 12271314.0\n",
      "  Energy Source: Wood and Wood Derived Fuels, Renewable: True, Generation (MWh): 942219.0\n",
      "  Percentage of Renewable Energy: 27.20%\n",
      "\n",
      "State: MO\n",
      "  Energy Source: Coal, Renewable: False, Generation (MWh): 57858268.0\n",
      "  Energy Source: Hydroelectric Conventional, Renewable: True, Generation (MWh): 1697444.0\n",
      "  Energy Source: Natural Gas, Renewable: False, Generation (MWh): 6058969.0\n",
      "  Energy Source: Nuclear, Renewable: False, Generation (MWh): 4292433.0\n",
      "  Energy Source: Other, Renewable: False, Generation (MWh): 2.0\n",
      "  Energy Source: Other Biomass, Renewable: True, Generation (MWh): 82750.0\n",
      "  Energy Source: Petroleum, Renewable: False, Generation (MWh): 258694.0\n",
      "  Energy Source: Pumped Storage, Renewable: True, Generation (MWh): 1487.0\n",
      "  Energy Source: Solar Thermal and Photovoltaic, Renewable: True, Generation (MWh): 116036.0\n",
      "  Energy Source: Total, Renewable: False, Generation (MWh): 76941410.0\n",
      "  Energy Source: Wind, Renewable: True, Generation (MWh): 6534345.0\n",
      "  Energy Source: Wood and Wood Derived Fuels, Renewable: True, Generation (MWh): 40982.0\n",
      "  Percentage of Renewable Energy: 11.01%\n",
      "\n",
      "State: MS\n",
      "  Energy Source: Coal, Renewable: False, Generation (MWh): 5530688.0\n",
      "  Energy Source: Natural Gas, Renewable: False, Generation (MWh): 48621025.0\n",
      "  Energy Source: Nuclear, Renewable: False, Generation (MWh): 11772058.0\n",
      "  Energy Source: Other, Renewable: False, Generation (MWh): 0.0\n",
      "  Energy Source: Other Biomass, Renewable: True, Generation (MWh): 12388.0\n",
      "  Energy Source: Petroleum, Renewable: False, Generation (MWh): 8247.0\n",
      "  Energy Source: Solar Thermal and Photovoltaic, Renewable: True, Generation (MWh): 424931.0\n",
      "  Energy Source: Total, Renewable: False, Generation (MWh): 67723497.0\n",
      "  Energy Source: Wood and Wood Derived Fuels, Renewable: True, Generation (MWh): 1354161.0\n",
      "  Percentage of Renewable Energy: 2.65%\n",
      "\n",
      "State: MT\n",
      "  Energy Source: Coal, Renewable: False, Generation (MWh): 10876454.0\n",
      "  Energy Source: Hydroelectric Conventional, Renewable: True, Generation (MWh): 9258373.0\n",
      "  Energy Source: Natural Gas, Renewable: False, Generation (MWh): 528305.0\n",
      "  Energy Source: Other, Renewable: False, Generation (MWh): 282678.0\n",
      "  Energy Source: Other Biomass, Renewable: True, Generation (MWh): 11557.0\n",
      "  Energy Source: Other Gases, Renewable: False, Generation (MWh): 13018.0\n",
      "  Energy Source: Petroleum, Renewable: False, Generation (MWh): 450731.0\n",
      "  Energy Source: Solar Thermal and Photovoltaic, Renewable: True, Generation (MWh): 33436.0\n",
      "  Energy Source: Total, Renewable: False, Generation (MWh): 24947923.0\n",
      "  Energy Source: Wind, Renewable: True, Generation (MWh): 3472646.0\n",
      "  Energy Source: Wood and Wood Derived Fuels, Renewable: True, Generation (MWh): 20725.0\n",
      "  Percentage of Renewable Energy: 51.29%\n",
      "\n",
      "State: NC\n",
      "  Energy Source: Coal, Renewable: False, Generation (MWh): 20404638.0\n",
      "  Energy Source: Hydroelectric Conventional, Renewable: True, Generation (MWh): 5812758.0\n",
      "  Energy Source: Natural Gas, Renewable: False, Generation (MWh): 47444634.0\n",
      "  Energy Source: Nuclear, Renewable: False, Generation (MWh): 43117707.0\n",
      "  Energy Source: Other, Renewable: False, Generation (MWh): 288520.0\n",
      "  Energy Source: Other Biomass, Renewable: True, Generation (MWh): 557186.0\n",
      "  Energy Source: Petroleum, Renewable: False, Generation (MWh): 194742.0\n",
      "  Energy Source: Pumped Storage, Renewable: True, Generation (MWh): 0.0\n",
      "  Energy Source: Solar Thermal and Photovoltaic, Renewable: True, Generation (MWh): 10123161.0\n",
      "  Energy Source: Total, Renewable: False, Generation (MWh): 129923364.0\n",
      "  Energy Source: Wind, Renewable: True, Generation (MWh): 514703.0\n",
      "  Energy Source: Wood and Wood Derived Fuels, Renewable: True, Generation (MWh): 1465316.0\n",
      "  Percentage of Renewable Energy: 14.22%\n",
      "\n",
      "State: ND\n",
      "  Energy Source: Coal, Renewable: False, Generation (MWh): 24402791.0\n",
      "  Energy Source: Hydroelectric Conventional, Renewable: True, Generation (MWh): 1989053.0\n",
      "  Energy Source: Natural Gas, Renewable: False, Generation (MWh): 1577728.0\n",
      "  Energy Source: Other, Renewable: False, Generation (MWh): 54454.0\n",
      "  Energy Source: Other Biomass, Renewable: True, Generation (MWh): 1764.0\n",
      "  Energy Source: Other Gases, Renewable: False, Generation (MWh): 38290.0\n",
      "  Energy Source: Petroleum, Renewable: False, Generation (MWh): 33095.0\n",
      "  Energy Source: Total, Renewable: False, Generation (MWh): 43032378.0\n",
      "  Energy Source: Wind, Renewable: True, Generation (MWh): 14935203.0\n",
      "  Percentage of Renewable Energy: 39.33%\n",
      "\n",
      "State: NE\n",
      "  Energy Source: Coal, Renewable: False, Generation (MWh): 18933617.0\n",
      "  Energy Source: Hydroelectric Conventional, Renewable: True, Generation (MWh): 1123156.0\n",
      "  Energy Source: Natural Gas, Renewable: False, Generation (MWh): 1173365.0\n",
      "  Energy Source: Nuclear, Renewable: False, Generation (MWh): 6880622.0\n",
      "  Energy Source: Other, Renewable: False, Generation (MWh): -28.0\n",
      "  Energy Source: Other Biomass, Renewable: True, Generation (MWh): 92473.0\n",
      "  Energy Source: Petroleum, Renewable: False, Generation (MWh): 55130.0\n",
      "  Energy Source: Solar Thermal and Photovoltaic, Renewable: True, Generation (MWh): 60523.0\n",
      "  Energy Source: Total, Renewable: False, Generation (MWh): 37910898.0\n",
      "  Energy Source: Wind, Renewable: True, Generation (MWh): 9592039.0\n",
      "  Energy Source: Wood and Wood Derived Fuels, Renewable: True, Generation (MWh): 0.0\n",
      "  Percentage of Renewable Energy: 28.67%\n",
      "\n",
      "State: NH\n",
      "  Energy Source: Coal, Renewable: False, Generation (MWh): 284163.0\n",
      "  Energy Source: Hydroelectric Conventional, Renewable: True, Generation (MWh): 1025006.0\n",
      "  Energy Source: Natural Gas, Renewable: False, Generation (MWh): 4466076.0\n",
      "  Energy Source: Nuclear, Renewable: False, Generation (MWh): 9856117.0\n",
      "  Energy Source: Other, Renewable: False, Generation (MWh): 55317.0\n",
      "  Energy Source: Other Biomass, Renewable: True, Generation (MWh): 140089.0\n",
      "  Energy Source: Petroleum, Renewable: False, Generation (MWh): 69971.0\n",
      "  Energy Source: Solar Thermal and Photovoltaic, Renewable: True, Generation (MWh): 3685.0\n",
      "  Energy Source: Total, Renewable: False, Generation (MWh): 17193254.0\n",
      "  Energy Source: Wind, Renewable: True, Generation (MWh): 504230.0\n",
      "  Energy Source: Wood and Wood Derived Fuels, Renewable: True, Generation (MWh): 788600.0\n",
      "  Percentage of Renewable Energy: 14.32%\n",
      "\n",
      "State: NJ\n",
      "  Energy Source: Coal, Renewable: False, Generation (MWh): 1026294.0\n",
      "  Energy Source: Hydroelectric Conventional, Renewable: True, Generation (MWh): 18224.0\n",
      "  Energy Source: Natural Gas, Renewable: False, Generation (MWh): 29542815.0\n",
      "  Energy Source: Nuclear, Renewable: False, Generation (MWh): 28142099.0\n",
      "  Energy Source: Other, Renewable: False, Generation (MWh): 590139.0\n",
      "  Energy Source: Other Biomass, Renewable: True, Generation (MWh): 707765.0\n",
      "  Energy Source: Other Gases, Renewable: False, Generation (MWh): 91971.0\n",
      "  Energy Source: Petroleum, Renewable: False, Generation (MWh): 36984.0\n",
      "  Energy Source: Pumped Storage, Renewable: True, Generation (MWh): -120077.0\n",
      "  Energy Source: Solar Thermal and Photovoltaic, Renewable: True, Generation (MWh): 1377849.0\n",
      "  Energy Source: Total, Renewable: False, Generation (MWh): 61433792.0\n",
      "  Energy Source: Wind, Renewable: True, Generation (MWh): 19729.0\n",
      "  Percentage of Renewable Energy: 3.26%\n",
      "\n",
      "State: NM\n",
      "  Energy Source: Coal, Renewable: False, Generation (MWh): 12536319.0\n",
      "  Energy Source: Geothermal, Renewable: True, Generation (MWh): 50934.0\n",
      "  Energy Source: Hydroelectric Conventional, Renewable: True, Generation (MWh): 122862.0\n",
      "  Energy Source: Natural Gas, Renewable: False, Generation (MWh): 10093190.0\n",
      "  Energy Source: Other, Renewable: False, Generation (MWh): -346.0\n",
      "  Energy Source: Other Biomass, Renewable: True, Generation (MWh): 25683.0\n",
      "  Energy Source: Petroleum, Renewable: False, Generation (MWh): 33178.0\n",
      "  Energy Source: Solar Thermal and Photovoltaic, Renewable: True, Generation (MWh): 1749810.0\n",
      "  Energy Source: Total, Renewable: False, Generation (MWh): 35192365.0\n",
      "  Energy Source: Wind, Renewable: True, Generation (MWh): 10580735.0\n",
      "  Percentage of Renewable Energy: 35.60%\n",
      "\n",
      "State: NV\n",
      "  Energy Source: Coal, Renewable: False, Generation (MWh): 2752473.0\n",
      "  Energy Source: Geothermal, Renewable: True, Generation (MWh): 3917454.0\n",
      "  Energy Source: Hydroelectric Conventional, Renewable: True, Generation (MWh): 1944288.0\n",
      "  Energy Source: Natural Gas, Renewable: False, Generation (MWh): 26129918.0\n",
      "  Energy Source: Other, Renewable: False, Generation (MWh): 27358.0\n",
      "  Energy Source: Other Biomass, Renewable: True, Generation (MWh): 49964.0\n",
      "  Energy Source: Other Gases, Renewable: False, Generation (MWh): 0.0\n",
      "  Energy Source: Petroleum, Renewable: False, Generation (MWh): 8014.0\n",
      "  Energy Source: Solar Thermal and Photovoltaic, Renewable: True, Generation (MWh): 6585171.0\n",
      "  Energy Source: Total, Renewable: False, Generation (MWh): 41754584.0\n",
      "  Energy Source: Wind, Renewable: True, Generation (MWh): 339944.0\n",
      "  Percentage of Renewable Energy: 30.74%\n",
      "\n",
      "State: NY\n",
      "  Energy Source: Coal, Renewable: False, Generation (MWh): 0.0\n",
      "  Energy Source: Hydroelectric Conventional, Renewable: True, Generation (MWh): 28765477.0\n",
      "  Energy Source: Natural Gas, Renewable: False, Generation (MWh): 56342707.0\n",
      "  Energy Source: Nuclear, Renewable: False, Generation (MWh): 31176583.0\n",
      "  Energy Source: Other, Renewable: False, Generation (MWh): 962650.0\n",
      "  Energy Source: Other Biomass, Renewable: True, Generation (MWh): 1449889.0\n",
      "  Energy Source: Other Gases, Renewable: False, Generation (MWh): 0.0\n",
      "  Energy Source: Petroleum, Renewable: False, Generation (MWh): 687762.0\n",
      "  Energy Source: Pumped Storage, Renewable: True, Generation (MWh): -381535.0\n",
      "  Energy Source: Solar Thermal and Photovoltaic, Renewable: True, Generation (MWh): 1158925.0\n",
      "  Energy Source: Total, Renewable: False, Generation (MWh): 124772248.0\n",
      "  Energy Source: Wind, Renewable: True, Generation (MWh): 4156369.0\n",
      "  Energy Source: Wood and Wood Derived Fuels, Renewable: True, Generation (MWh): 453422.0\n",
      "  Percentage of Renewable Energy: 28.53%\n",
      "\n",
      "State: OH\n",
      "  Energy Source: Coal, Renewable: False, Generation (MWh): 45662048.0\n",
      "  Energy Source: Hydroelectric Conventional, Renewable: True, Generation (MWh): 578290.0\n",
      "  Energy Source: Natural Gas, Renewable: False, Generation (MWh): 56380782.0\n",
      "  Energy Source: Nuclear, Renewable: False, Generation (MWh): 17483009.0\n",
      "  Energy Source: Other, Renewable: False, Generation (MWh): 3240.0\n",
      "  Energy Source: Other Biomass, Renewable: True, Generation (MWh): 406508.0\n",
      "  Energy Source: Other Gases, Renewable: False, Generation (MWh): 812827.0\n",
      "  Energy Source: Petroleum, Renewable: False, Generation (MWh): 1125073.0\n",
      "  Energy Source: Solar Thermal and Photovoltaic, Renewable: True, Generation (MWh): 672660.0\n",
      "  Energy Source: Total, Renewable: False, Generation (MWh): 125947507.0\n",
      "  Energy Source: Wind, Renewable: True, Generation (MWh): 2586756.0\n",
      "  Energy Source: Wood and Wood Derived Fuels, Renewable: True, Generation (MWh): 236314.0\n",
      "  Percentage of Renewable Energy: 3.56%\n",
      "\n",
      "State: OK\n",
      "  Energy Source: Coal, Renewable: False, Generation (MWh): 11246007.0\n",
      "  Energy Source: Hydroelectric Conventional, Renewable: True, Generation (MWh): 2766175.0\n",
      "  Energy Source: Natural Gas, Renewable: False, Generation (MWh): 33857238.0\n",
      "  Energy Source: Other, Renewable: False, Generation (MWh): 1711.0\n",
      "  Energy Source: Other Biomass, Renewable: True, Generation (MWh): 86523.0\n",
      "  Energy Source: Petroleum, Renewable: False, Generation (MWh): 35178.0\n",
      "  Energy Source: Pumped Storage, Renewable: True, Generation (MWh): -86940.0\n",
      "  Energy Source: Solar Thermal and Photovoltaic, Renewable: True, Generation (MWh): 76618.0\n",
      "  Energy Source: Total, Renewable: False, Generation (MWh): 80754586.0\n",
      "  Energy Source: Wind, Renewable: True, Generation (MWh): 32540312.0\n",
      "  Energy Source: Wood and Wood Derived Fuels, Renewable: True, Generation (MWh): 231765.0\n",
      "  Percentage of Renewable Energy: 44.10%\n",
      "\n",
      "State: OR\n",
      "  Energy Source: Geothermal, Renewable: True, Generation (MWh): 182841.0\n",
      "  Energy Source: Hydroelectric Conventional, Renewable: True, Generation (MWh): 27659573.0\n",
      "  Energy Source: Natural Gas, Renewable: False, Generation (MWh): 21296627.0\n",
      "  Energy Source: Other, Renewable: False, Generation (MWh): 35467.0\n",
      "  Energy Source: Other Biomass, Renewable: True, Generation (MWh): 318976.0\n",
      "  Energy Source: Petroleum, Renewable: False, Generation (MWh): 419.0\n",
      "  Energy Source: Solar Thermal and Photovoltaic, Renewable: True, Generation (MWh): 1461062.0\n",
      "  Energy Source: Total, Renewable: False, Generation (MWh): 61016874.0\n",
      "  Energy Source: Wind, Renewable: True, Generation (MWh): 9375750.0\n",
      "  Energy Source: Wood and Wood Derived Fuels, Renewable: True, Generation (MWh): 686158.0\n",
      "  Percentage of Renewable Energy: 65.04%\n",
      "\n",
      "State: PA\n",
      "  Energy Source: Coal, Renewable: False, Generation (MWh): 29297308.0\n",
      "  Energy Source: Hydroelectric Conventional, Renewable: True, Generation (MWh): 3134917.0\n",
      "  Energy Source: Natural Gas, Renewable: False, Generation (MWh): 126664878.0\n",
      "  Energy Source: Nuclear, Renewable: False, Generation (MWh): 75902514.0\n",
      "  Energy Source: Other, Renewable: False, Generation (MWh): 904095.0\n",
      "  Energy Source: Other Biomass, Renewable: True, Generation (MWh): 1395935.0\n",
      "  Energy Source: Other Gases, Renewable: False, Generation (MWh): 550684.0\n",
      "  Energy Source: Petroleum, Renewable: False, Generation (MWh): 124096.0\n",
      "  Energy Source: Pumped Storage, Renewable: True, Generation (MWh): -691512.0\n",
      "  Energy Source: Solar Thermal and Photovoltaic, Renewable: True, Generation (MWh): 223504.0\n",
      "  Energy Source: Total, Renewable: False, Generation (MWh): 241331434.0\n",
      "  Energy Source: Wind, Renewable: True, Generation (MWh): 3455169.0\n",
      "  Energy Source: Wood and Wood Derived Fuels, Renewable: True, Generation (MWh): 369846.0\n",
      "  Percentage of Renewable Energy: 3.27%\n",
      "\n",
      "State: RI\n",
      "  Energy Source: Coal, Renewable: False, Generation (MWh): 0.0\n",
      "  Energy Source: Hydroelectric Conventional, Renewable: True, Generation (MWh): 4455.0\n",
      "  Energy Source: Natural Gas, Renewable: False, Generation (MWh): 8641187.0\n",
      "  Energy Source: Other Biomass, Renewable: True, Generation (MWh): 208274.0\n",
      "  Energy Source: Petroleum, Renewable: False, Generation (MWh): 12563.0\n",
      "  Energy Source: Solar Thermal and Photovoltaic, Renewable: True, Generation (MWh): 284010.0\n",
      "  Energy Source: Total, Renewable: False, Generation (MWh): 9322650.0\n",
      "  Energy Source: Wind, Renewable: True, Generation (MWh): 172160.0\n",
      "  Percentage of Renewable Energy: 7.17%\n",
      "\n",
      "State: SC\n",
      "  Energy Source: Coal, Renewable: False, Generation (MWh): 15188401.0\n",
      "  Energy Source: Hydroelectric Conventional, Renewable: True, Generation (MWh): 2543758.0\n",
      "  Energy Source: Natural Gas, Renewable: False, Generation (MWh): 23242298.0\n",
      "  Energy Source: Nuclear, Renewable: False, Generation (MWh): 53771428.0\n",
      "  Energy Source: Other, Renewable: False, Generation (MWh): 42135.0\n",
      "  Energy Source: Other Biomass, Renewable: True, Generation (MWh): 106595.0\n",
      "  Energy Source: Petroleum, Renewable: False, Generation (MWh): 86175.0\n",
      "  Energy Source: Pumped Storage, Renewable: True, Generation (MWh): -768078.0\n",
      "  Energy Source: Solar Thermal and Photovoltaic, Renewable: True, Generation (MWh): 2279650.0\n",
      "  Energy Source: Total, Renewable: False, Generation (MWh): 98390441.0\n",
      "  Energy Source: Wood and Wood Derived Fuels, Renewable: True, Generation (MWh): 1898079.0\n",
      "  Percentage of Renewable Energy: 6.16%\n",
      "\n",
      "State: SD\n",
      "  Energy Source: Coal, Renewable: False, Generation (MWh): 1638390.0\n",
      "  Energy Source: Hydroelectric Conventional, Renewable: True, Generation (MWh): 4982552.0\n",
      "  Energy Source: Natural Gas, Renewable: False, Generation (MWh): 1311854.0\n",
      "  Energy Source: Other, Renewable: False, Generation (MWh): 0.0\n",
      "  Energy Source: Other Biomass, Renewable: True, Generation (MWh): 1119.0\n",
      "  Energy Source: Petroleum, Renewable: False, Generation (MWh): 38192.0\n",
      "  Energy Source: Solar Thermal and Photovoltaic, Renewable: True, Generation (MWh): 2007.0\n",
      "  Energy Source: Total, Renewable: False, Generation (MWh): 17322409.0\n",
      "  Energy Source: Wind, Renewable: True, Generation (MWh): 9326617.0\n",
      "  Energy Source: Wood and Wood Derived Fuels, Renewable: True, Generation (MWh): 21677.0\n",
      "  Percentage of Renewable Energy: 82.75%\n",
      "\n",
      "State: TN\n",
      "  Energy Source: Coal, Renewable: False, Generation (MWh): 18259796.0\n",
      "  Energy Source: Hydroelectric Conventional, Renewable: True, Generation (MWh): 10871480.0\n",
      "  Energy Source: Natural Gas, Renewable: False, Generation (MWh): 13986006.0\n",
      "  Energy Source: Nuclear, Renewable: False, Generation (MWh): 35330407.0\n",
      "  Energy Source: Other, Renewable: False, Generation (MWh): 6637.0\n",
      "  Energy Source: Other Biomass, Renewable: True, Generation (MWh): 82346.0\n",
      "  Energy Source: Other Gases, Renewable: False, Generation (MWh): 10654.0\n",
      "  Energy Source: Petroleum, Renewable: False, Generation (MWh): 103066.0\n",
      "  Energy Source: Pumped Storage, Renewable: True, Generation (MWh): -577291.0\n",
      "  Energy Source: Solar Thermal and Photovoltaic, Renewable: True, Generation (MWh): 338576.0\n",
      "  Energy Source: Total, Renewable: False, Generation (MWh): 79057209.0\n",
      "  Energy Source: Wind, Renewable: True, Generation (MWh): 28186.0\n",
      "  Energy Source: Wood and Wood Derived Fuels, Renewable: True, Generation (MWh): 617346.0\n",
      "  Percentage of Renewable Energy: 14.37%\n",
      "\n",
      "State: TX\n",
      "  Energy Source: Coal, Renewable: False, Generation (MWh): 88818139.0\n",
      "  Energy Source: Hydroelectric Conventional, Renewable: True, Generation (MWh): 1082469.0\n",
      "  Energy Source: Natural Gas, Renewable: False, Generation (MWh): 233120825.0\n",
      "  Energy Source: Nuclear, Renewable: False, Generation (MWh): 40211257.0\n",
      "  Energy Source: Other, Renewable: False, Generation (MWh): 419549.0\n",
      "  Energy Source: Other Biomass, Renewable: True, Generation (MWh): 342069.0\n",
      "  Energy Source: Other Gases, Renewable: False, Generation (MWh): 2217666.0\n",
      "  Energy Source: Petroleum, Renewable: False, Generation (MWh): 297630.0\n",
      "  Energy Source: Solar Thermal and Photovoltaic, Renewable: True, Generation (MWh): 14921097.0\n",
      "  Energy Source: Total, Renewable: False, Generation (MWh): 481844256.0\n",
      "  Energy Source: Wind, Renewable: True, Generation (MWh): 99474216.0\n",
      "  Energy Source: Wood and Wood Derived Fuels, Renewable: True, Generation (MWh): 939340.0\n",
      "  Percentage of Renewable Energy: 24.23%\n",
      "\n",
      "State: US-Total\n",
      "  Energy Source: Coal, Renewable: False, Generation (MWh): 897998760.0\n",
      "  Energy Source: Geothermal, Renewable: True, Generation (MWh): 15975127.0\n",
      "  Energy Source: Hydroelectric Conventional, Renewable: True, Generation (MWh): 251584842.0\n",
      "  Energy Source: Natural Gas, Renewable: False, Generation (MWh): 1579189987.0\n",
      "  Energy Source: Nuclear, Renewable: False, Generation (MWh): 779644595.0\n",
      "  Energy Source: Other, Renewable: False, Generation (MWh): 12140066.0\n",
      "  Energy Source: Other Biomass, Renewable: True, Generation (MWh): 17789553.0\n",
      "  Energy Source: Other Gases, Renewable: False, Generation (MWh): 11397237.0\n",
      "  Energy Source: Petroleum, Renewable: False, Generation (MWh): 19173210.0\n",
      "  Energy Source: Pumped Storage, Renewable: True, Generation (MWh): -5111684.0\n",
      "  Energy Source: Solar Thermal and Photovoltaic, Renewable: True, Generation (MWh): 115258248.0\n",
      "  Energy Source: Total, Renewable: False, Generation (MWh): 4109699390.0\n",
      "  Energy Source: Wind, Renewable: True, Generation (MWh): 378196775.0\n",
      "  Energy Source: Wood and Wood Derived Fuels, Renewable: True, Generation (MWh): 36462673.0\n",
      "  Percentage of Renewable Energy: 19.71%\n",
      "\n",
      "State: UT\n",
      "  Energy Source: Coal, Renewable: False, Generation (MWh): 26375565.0\n",
      "  Energy Source: Geothermal, Renewable: True, Generation (MWh): 419662.0\n",
      "  Energy Source: Hydroelectric Conventional, Renewable: True, Generation (MWh): 493542.0\n",
      "  Energy Source: Natural Gas, Renewable: False, Generation (MWh): 10686336.0\n",
      "  Energy Source: Other, Renewable: False, Generation (MWh): 161821.0\n",
      "  Energy Source: Other Biomass, Renewable: True, Generation (MWh): 80752.0\n",
      "  Energy Source: Other Gases, Renewable: False, Generation (MWh): 5272.0\n",
      "  Energy Source: Petroleum, Renewable: False, Generation (MWh): 38114.0\n",
      "  Energy Source: Solar Thermal and Photovoltaic, Renewable: True, Generation (MWh): 3479353.0\n",
      "  Energy Source: Total, Renewable: False, Generation (MWh): 42565645.0\n",
      "  Energy Source: Wind, Renewable: True, Generation (MWh): 825229.0\n",
      "  Percentage of Renewable Energy: 12.45%\n",
      "\n",
      "State: VA\n",
      "  Energy Source: Coal, Renewable: False, Generation (MWh): 3248473.0\n",
      "  Energy Source: Hydroelectric Conventional, Renewable: True, Generation (MWh): 1305725.0\n",
      "  Energy Source: Natural Gas, Renewable: False, Generation (MWh): 53611274.0\n",
      "  Energy Source: Nuclear, Renewable: False, Generation (MWh): 28571516.0\n",
      "  Energy Source: Other, Renewable: False, Generation (MWh): 527592.0\n",
      "  Energy Source: Other Biomass, Renewable: True, Generation (MWh): 987499.0\n",
      "  Energy Source: Petroleum, Renewable: False, Generation (MWh): 340785.0\n",
      "  Energy Source: Pumped Storage, Renewable: True, Generation (MWh): -1038703.0\n",
      "  Energy Source: Solar Thermal and Photovoltaic, Renewable: True, Generation (MWh): 3267494.0\n",
      "  Energy Source: Total, Renewable: False, Generation (MWh): 93478182.0\n",
      "  Energy Source: Wind, Renewable: True, Generation (MWh): 49583.0\n",
      "  Energy Source: Wood and Wood Derived Fuels, Renewable: True, Generation (MWh): 2606944.0\n",
      "  Percentage of Renewable Energy: 7.68%\n",
      "\n",
      "State: VT\n",
      "  Energy Source: Hydroelectric Conventional, Renewable: True, Generation (MWh): 1092771.0\n",
      "  Energy Source: Natural Gas, Renewable: False, Generation (MWh): 2054.0\n",
      "  Energy Source: Other, Renewable: False, Generation (MWh): 2182.0\n",
      "  Energy Source: Other Biomass, Renewable: True, Generation (MWh): 60329.0\n",
      "  Energy Source: Petroleum, Renewable: False, Generation (MWh): 2885.0\n",
      "  Energy Source: Solar Thermal and Photovoltaic, Renewable: True, Generation (MWh): 173303.0\n",
      "  Energy Source: Total, Renewable: False, Generation (MWh): 2107703.0\n",
      "  Energy Source: Wind, Renewable: True, Generation (MWh): 338188.0\n",
      "  Energy Source: Wood and Wood Derived Fuels, Renewable: True, Generation (MWh): 435991.0\n",
      "  Percentage of Renewable Energy: 99.66%\n",
      "\n",
      "State: WA\n",
      "  Energy Source: Coal, Renewable: False, Generation (MWh): 3132521.0\n",
      "  Energy Source: Hydroelectric Conventional, Renewable: True, Generation (MWh): 71379357.0\n",
      "  Energy Source: Natural Gas, Renewable: False, Generation (MWh): 16589252.0\n",
      "  Energy Source: Nuclear, Renewable: False, Generation (MWh): 8511288.0\n",
      "  Energy Source: Other, Renewable: False, Generation (MWh): 65514.0\n",
      "  Energy Source: Other Biomass, Renewable: True, Generation (MWh): 115443.0\n",
      "  Energy Source: Other Gases, Renewable: False, Generation (MWh): 237716.0\n",
      "  Energy Source: Petroleum, Renewable: False, Generation (MWh): 32024.0\n",
      "  Energy Source: Pumped Storage, Renewable: True, Generation (MWh): 1986.0\n",
      "  Energy Source: Solar Thermal and Photovoltaic, Renewable: True, Generation (MWh): 50208.0\n",
      "  Energy Source: Total, Renewable: False, Generation (MWh): 110808401.0\n",
      "  Energy Source: Wind, Renewable: True, Generation (MWh): 9297756.0\n",
      "  Energy Source: Wood and Wood Derived Fuels, Renewable: True, Generation (MWh): 1395335.0\n",
      "  Percentage of Renewable Energy: 74.22%\n",
      "\n",
      "State: WI\n",
      "  Energy Source: Coal, Renewable: False, Generation (MWh): 27441587.0\n",
      "  Energy Source: Hydroelectric Conventional, Renewable: True, Generation (MWh): 2144883.0\n",
      "  Energy Source: Natural Gas, Renewable: False, Generation (MWh): 21342001.0\n",
      "  Energy Source: Nuclear, Renewable: False, Generation (MWh): 9970190.0\n",
      "  Energy Source: Other, Renewable: False, Generation (MWh): 25346.0\n",
      "  Energy Source: Other Biomass, Renewable: True, Generation (MWh): 411050.0\n",
      "  Energy Source: Petroleum, Renewable: False, Generation (MWh): 320543.0\n",
      "  Energy Source: Solar Thermal and Photovoltaic, Renewable: True, Generation (MWh): 366806.0\n",
      "  Energy Source: Total, Renewable: False, Generation (MWh): 64276480.0\n",
      "  Energy Source: Wind, Renewable: True, Generation (MWh): 1593479.0\n",
      "  Energy Source: Wood and Wood Derived Fuels, Renewable: True, Generation (MWh): 660595.0\n",
      "  Percentage of Renewable Energy: 8.05%\n",
      "\n",
      "State: WV\n",
      "  Energy Source: Coal, Renewable: False, Generation (MWh): 59667589.0\n",
      "  Energy Source: Hydroelectric Conventional, Renewable: True, Generation (MWh): 1704564.0\n",
      "  Energy Source: Natural Gas, Renewable: False, Generation (MWh): 2625675.0\n",
      "  Energy Source: Other, Renewable: False, Generation (MWh): -16271.0\n",
      "  Energy Source: Other Biomass, Renewable: True, Generation (MWh): 10166.0\n",
      "  Energy Source: Other Gases, Renewable: False, Generation (MWh): 53005.0\n",
      "  Energy Source: Petroleum, Renewable: False, Generation (MWh): 167199.0\n",
      "  Energy Source: Total, Renewable: False, Generation (MWh): 65836063.0\n",
      "  Energy Source: Wind, Renewable: True, Generation (MWh): 1624136.0\n",
      "  Percentage of Renewable Energy: 5.07%\n",
      "\n",
      "State: WY\n",
      "  Energy Source: Coal, Renewable: False, Generation (MWh): 32038128.0\n",
      "  Energy Source: Hydroelectric Conventional, Renewable: True, Generation (MWh): 790445.0\n",
      "  Energy Source: Natural Gas, Renewable: False, Generation (MWh): 1500701.0\n",
      "  Energy Source: Other, Renewable: False, Generation (MWh): 84037.0\n",
      "  Energy Source: Other Gases, Renewable: False, Generation (MWh): 360169.0\n",
      "  Energy Source: Petroleum, Renewable: False, Generation (MWh): 60332.0\n",
      "  Energy Source: Solar Thermal and Photovoltaic, Renewable: True, Generation (MWh): 179072.0\n",
      "  Energy Source: Total, Renewable: False, Generation (MWh): 43460744.0\n",
      "  Energy Source: Wind, Renewable: True, Generation (MWh): 8447860.0\n",
      "  Percentage of Renewable Energy: 21.67%\n",
      "\n"
     ]
    }
   ],
   "source": [
    "# Path to your CSV file\n",
    "csv_file_path = '/Users/michael/Desktop/annual_generation_state.csv'\n",
    "\n",
    "# Read the CSV file into a DataFrame\n",
    "df = pd.read_csv(csv_file_path)\n",
    "\n",
    "# for col in df.columns:\n",
    "#     print(col)\n",
    "\n",
    "# Display the first few rows of the DataFrame\n",
    "# print(df.head())\n",
    "\n",
    "# Convert 'GENERATION (Megawatthours)' to numeric format, if it contains commas\n",
    "df['GENERATION (Megawatthours)'] = df['GENERATION (Megawatthours)'].str.replace(',', '').astype(float)\n",
    "\n",
    "# Filter for the year 2021\n",
    "df_2021 = df[df['YEAR'] == 2021]\n",
    "\n",
    "df_2021 = df_2021[df_2021['TYPE OF PRODUCER'] == 'Total Electric Power Industry']\n",
    "\n",
    "# Define renewable energy sources based on your update\n",
    "renewable_sources = [\n",
    "    'Wind', \n",
    "    'Wood and Wood Derived Fuels', \n",
    "    'Other Biomass', \n",
    "    'Hydroelectric Conventional', \n",
    "    'Solar Thermal and Photovoltaic', \n",
    "    'Pumped Storage', \n",
    "    'Geothermal'\n",
    "]\n",
    "\n",
    "# Identify renewable energy generation\n",
    "df_2021['Renewable'] = df_2021['ENERGY SOURCE'].isin(renewable_sources)\n",
    "\n",
    "# Group by State and Energy Source, then sum the generation\n",
    "state_energy_generation = df_2021.groupby(['STATE', 'ENERGY SOURCE', 'Renewable'])['GENERATION (Megawatthours)'].sum().reset_index()\n",
    "\n",
    "# Calculate total and renewable generation by state\n",
    "total_generation_by_state = df_2021.groupby('STATE')['GENERATION (Megawatthours)'].sum() / 2\n",
    "renewable_generation_by_state = df_2021[df_2021['Renewable']].groupby('STATE')['GENERATION (Megawatthours)'].sum()\n",
    "\n",
    "# Calculate the percentage of renewable generation for each state\n",
    "percentage_renewable = (renewable_generation_by_state / total_generation_by_state * 100).reset_index(name='Percentage Renewable')\n",
    "\n",
    "# Merge the percentage data back with the detailed state and energy source data\n",
    "detailed_state_data = pd.merge(state_energy_generation, percentage_renewable, on='STATE')\n",
    "\n",
    "# Now, print out the details for each state\n",
    "for state in detailed_state_data['STATE'].unique():\n",
    "    print(f\"State: {state}\")\n",
    "    state_data = detailed_state_data[detailed_state_data['STATE'] == state]\n",
    "    for _, row in state_data.iterrows():\n",
    "        print(f\"  Energy Source: {row['ENERGY SOURCE']}, Renewable: {row['Renewable']}, Generation (MWh): {row['GENERATION (Megawatthours)']}\")\n",
    "    state_percentage_renewable = state_data['Percentage Renewable'].iloc[0]\n",
    "    print(f\"  Percentage of Renewable Energy: {state_percentage_renewable:.2f}%\")\n",
    "    print(\"\")\n"
   ]
  },
  {
   "cell_type": "code",
   "execution_count": 3,
   "metadata": {},
   "outputs": [
    {
     "data": {
      "application/vnd.plotly.v1+json": {
       "config": {
        "plotlyServerURL": "https://plot.ly"
       },
       "data": [
        {
         "autocolorscale": false,
         "colorbar": {
          "title": {
           "text": "Percentage"
          }
         },
         "colorscale": [
          [
           0,
           "rgb(247,252,245)"
          ],
          [
           0.125,
           "rgb(229,245,224)"
          ],
          [
           0.25,
           "rgb(199,233,192)"
          ],
          [
           0.375,
           "rgb(161,217,155)"
          ],
          [
           0.5,
           "rgb(116,196,118)"
          ],
          [
           0.625,
           "rgb(65,171,93)"
          ],
          [
           0.75,
           "rgb(35,139,69)"
          ],
          [
           0.875,
           "rgb(0,109,44)"
          ],
          [
           1,
           "rgb(0,68,27)"
          ]
         ],
         "hoverinfo": "none",
         "locationmode": "USA-states",
         "locations": [
          "AK",
          "AL",
          "AR",
          "AZ",
          "CA",
          "CO",
          "CT",
          "DC",
          "DE",
          "FL",
          "GA",
          "HI",
          "IA",
          "ID",
          "IL",
          "IN",
          "KS",
          "KY",
          "LA",
          "MA",
          "MD",
          "ME",
          "MI",
          "MN",
          "MO",
          "MS",
          "MT",
          "NC",
          "ND",
          "NE",
          "NH",
          "NJ",
          "NM",
          "NV",
          "NY",
          "OH",
          "OK",
          "OR",
          "PA",
          "RI",
          "SC",
          "SD",
          "TN",
          "TX",
          "UT",
          "VA",
          "VT",
          "WA",
          "WI",
          "WV",
          "WY"
         ],
         "marker": {
          "line": {
           "color": "black",
           "width": 0.5
          }
         },
         "type": "choropleth",
         "z": [
          28.19,
          10.74,
          8.89,
          13.43,
          41.05,
          32.7,
          3.43,
          35.05,
          3.15,
          5.46,
          11.47,
          19.02,
          57.29,
          70.22,
          11.09,
          9.82,
          45.63,
          7.63,
          3.44,
          17.78,
          9.52,
          66.11,
          9.62,
          27.2,
          11.01,
          2.65,
          51.29,
          14.22,
          39.33,
          28.67,
          14.32,
          3.26,
          35.6,
          30.74,
          28.53,
          3.56,
          44.1,
          65.04,
          3.27,
          7.17,
          6.16,
          82.75,
          14.37,
          24.23,
          12.45,
          7.68,
          99.66,
          74.22,
          8.05,
          5.07,
          21.67
         ],
         "zmax": 100,
         "zmin": 0
        }
       ],
       "layout": {
        "autosize": true,
        "font": {
         "color": "Black",
         "family": "Times New Roman",
         "size": 18
        },
        "geo": {
         "lakecolor": "rgb(255, 255, 255)",
         "projection": {
          "type": "albers usa"
         },
         "scope": "usa",
         "showlakes": true
        },
        "height": 500,
        "margin": {
         "b": 10,
         "l": 10,
         "pad": 0,
         "r": 10,
         "t": 10
        },
        "template": {
         "data": {
          "bar": [
           {
            "error_x": {
             "color": "#2a3f5f"
            },
            "error_y": {
             "color": "#2a3f5f"
            },
            "marker": {
             "line": {
              "color": "#E5ECF6",
              "width": 0.5
             },
             "pattern": {
              "fillmode": "overlay",
              "size": 10,
              "solidity": 0.2
             }
            },
            "type": "bar"
           }
          ],
          "barpolar": [
           {
            "marker": {
             "line": {
              "color": "#E5ECF6",
              "width": 0.5
             },
             "pattern": {
              "fillmode": "overlay",
              "size": 10,
              "solidity": 0.2
             }
            },
            "type": "barpolar"
           }
          ],
          "carpet": [
           {
            "aaxis": {
             "endlinecolor": "#2a3f5f",
             "gridcolor": "white",
             "linecolor": "white",
             "minorgridcolor": "white",
             "startlinecolor": "#2a3f5f"
            },
            "baxis": {
             "endlinecolor": "#2a3f5f",
             "gridcolor": "white",
             "linecolor": "white",
             "minorgridcolor": "white",
             "startlinecolor": "#2a3f5f"
            },
            "type": "carpet"
           }
          ],
          "choropleth": [
           {
            "colorbar": {
             "outlinewidth": 0,
             "ticks": ""
            },
            "type": "choropleth"
           }
          ],
          "contour": [
           {
            "colorbar": {
             "outlinewidth": 0,
             "ticks": ""
            },
            "colorscale": [
             [
              0,
              "#0d0887"
             ],
             [
              0.1111111111111111,
              "#46039f"
             ],
             [
              0.2222222222222222,
              "#7201a8"
             ],
             [
              0.3333333333333333,
              "#9c179e"
             ],
             [
              0.4444444444444444,
              "#bd3786"
             ],
             [
              0.5555555555555556,
              "#d8576b"
             ],
             [
              0.6666666666666666,
              "#ed7953"
             ],
             [
              0.7777777777777778,
              "#fb9f3a"
             ],
             [
              0.8888888888888888,
              "#fdca26"
             ],
             [
              1,
              "#f0f921"
             ]
            ],
            "type": "contour"
           }
          ],
          "contourcarpet": [
           {
            "colorbar": {
             "outlinewidth": 0,
             "ticks": ""
            },
            "type": "contourcarpet"
           }
          ],
          "heatmap": [
           {
            "colorbar": {
             "outlinewidth": 0,
             "ticks": ""
            },
            "colorscale": [
             [
              0,
              "#0d0887"
             ],
             [
              0.1111111111111111,
              "#46039f"
             ],
             [
              0.2222222222222222,
              "#7201a8"
             ],
             [
              0.3333333333333333,
              "#9c179e"
             ],
             [
              0.4444444444444444,
              "#bd3786"
             ],
             [
              0.5555555555555556,
              "#d8576b"
             ],
             [
              0.6666666666666666,
              "#ed7953"
             ],
             [
              0.7777777777777778,
              "#fb9f3a"
             ],
             [
              0.8888888888888888,
              "#fdca26"
             ],
             [
              1,
              "#f0f921"
             ]
            ],
            "type": "heatmap"
           }
          ],
          "heatmapgl": [
           {
            "colorbar": {
             "outlinewidth": 0,
             "ticks": ""
            },
            "colorscale": [
             [
              0,
              "#0d0887"
             ],
             [
              0.1111111111111111,
              "#46039f"
             ],
             [
              0.2222222222222222,
              "#7201a8"
             ],
             [
              0.3333333333333333,
              "#9c179e"
             ],
             [
              0.4444444444444444,
              "#bd3786"
             ],
             [
              0.5555555555555556,
              "#d8576b"
             ],
             [
              0.6666666666666666,
              "#ed7953"
             ],
             [
              0.7777777777777778,
              "#fb9f3a"
             ],
             [
              0.8888888888888888,
              "#fdca26"
             ],
             [
              1,
              "#f0f921"
             ]
            ],
            "type": "heatmapgl"
           }
          ],
          "histogram": [
           {
            "marker": {
             "pattern": {
              "fillmode": "overlay",
              "size": 10,
              "solidity": 0.2
             }
            },
            "type": "histogram"
           }
          ],
          "histogram2d": [
           {
            "colorbar": {
             "outlinewidth": 0,
             "ticks": ""
            },
            "colorscale": [
             [
              0,
              "#0d0887"
             ],
             [
              0.1111111111111111,
              "#46039f"
             ],
             [
              0.2222222222222222,
              "#7201a8"
             ],
             [
              0.3333333333333333,
              "#9c179e"
             ],
             [
              0.4444444444444444,
              "#bd3786"
             ],
             [
              0.5555555555555556,
              "#d8576b"
             ],
             [
              0.6666666666666666,
              "#ed7953"
             ],
             [
              0.7777777777777778,
              "#fb9f3a"
             ],
             [
              0.8888888888888888,
              "#fdca26"
             ],
             [
              1,
              "#f0f921"
             ]
            ],
            "type": "histogram2d"
           }
          ],
          "histogram2dcontour": [
           {
            "colorbar": {
             "outlinewidth": 0,
             "ticks": ""
            },
            "colorscale": [
             [
              0,
              "#0d0887"
             ],
             [
              0.1111111111111111,
              "#46039f"
             ],
             [
              0.2222222222222222,
              "#7201a8"
             ],
             [
              0.3333333333333333,
              "#9c179e"
             ],
             [
              0.4444444444444444,
              "#bd3786"
             ],
             [
              0.5555555555555556,
              "#d8576b"
             ],
             [
              0.6666666666666666,
              "#ed7953"
             ],
             [
              0.7777777777777778,
              "#fb9f3a"
             ],
             [
              0.8888888888888888,
              "#fdca26"
             ],
             [
              1,
              "#f0f921"
             ]
            ],
            "type": "histogram2dcontour"
           }
          ],
          "mesh3d": [
           {
            "colorbar": {
             "outlinewidth": 0,
             "ticks": ""
            },
            "type": "mesh3d"
           }
          ],
          "parcoords": [
           {
            "line": {
             "colorbar": {
              "outlinewidth": 0,
              "ticks": ""
             }
            },
            "type": "parcoords"
           }
          ],
          "pie": [
           {
            "automargin": true,
            "type": "pie"
           }
          ],
          "scatter": [
           {
            "fillpattern": {
             "fillmode": "overlay",
             "size": 10,
             "solidity": 0.2
            },
            "type": "scatter"
           }
          ],
          "scatter3d": [
           {
            "line": {
             "colorbar": {
              "outlinewidth": 0,
              "ticks": ""
             }
            },
            "marker": {
             "colorbar": {
              "outlinewidth": 0,
              "ticks": ""
             }
            },
            "type": "scatter3d"
           }
          ],
          "scattercarpet": [
           {
            "marker": {
             "colorbar": {
              "outlinewidth": 0,
              "ticks": ""
             }
            },
            "type": "scattercarpet"
           }
          ],
          "scattergeo": [
           {
            "marker": {
             "colorbar": {
              "outlinewidth": 0,
              "ticks": ""
             }
            },
            "type": "scattergeo"
           }
          ],
          "scattergl": [
           {
            "marker": {
             "colorbar": {
              "outlinewidth": 0,
              "ticks": ""
             }
            },
            "type": "scattergl"
           }
          ],
          "scattermapbox": [
           {
            "marker": {
             "colorbar": {
              "outlinewidth": 0,
              "ticks": ""
             }
            },
            "type": "scattermapbox"
           }
          ],
          "scatterpolar": [
           {
            "marker": {
             "colorbar": {
              "outlinewidth": 0,
              "ticks": ""
             }
            },
            "type": "scatterpolar"
           }
          ],
          "scatterpolargl": [
           {
            "marker": {
             "colorbar": {
              "outlinewidth": 0,
              "ticks": ""
             }
            },
            "type": "scatterpolargl"
           }
          ],
          "scatterternary": [
           {
            "marker": {
             "colorbar": {
              "outlinewidth": 0,
              "ticks": ""
             }
            },
            "type": "scatterternary"
           }
          ],
          "surface": [
           {
            "colorbar": {
             "outlinewidth": 0,
             "ticks": ""
            },
            "colorscale": [
             [
              0,
              "#0d0887"
             ],
             [
              0.1111111111111111,
              "#46039f"
             ],
             [
              0.2222222222222222,
              "#7201a8"
             ],
             [
              0.3333333333333333,
              "#9c179e"
             ],
             [
              0.4444444444444444,
              "#bd3786"
             ],
             [
              0.5555555555555556,
              "#d8576b"
             ],
             [
              0.6666666666666666,
              "#ed7953"
             ],
             [
              0.7777777777777778,
              "#fb9f3a"
             ],
             [
              0.8888888888888888,
              "#fdca26"
             ],
             [
              1,
              "#f0f921"
             ]
            ],
            "type": "surface"
           }
          ],
          "table": [
           {
            "cells": {
             "fill": {
              "color": "#EBF0F8"
             },
             "line": {
              "color": "white"
             }
            },
            "header": {
             "fill": {
              "color": "#C8D4E3"
             },
             "line": {
              "color": "white"
             }
            },
            "type": "table"
           }
          ]
         },
         "layout": {
          "annotationdefaults": {
           "arrowcolor": "#2a3f5f",
           "arrowhead": 0,
           "arrowwidth": 1
          },
          "autotypenumbers": "strict",
          "coloraxis": {
           "colorbar": {
            "outlinewidth": 0,
            "ticks": ""
           }
          },
          "colorscale": {
           "diverging": [
            [
             0,
             "#8e0152"
            ],
            [
             0.1,
             "#c51b7d"
            ],
            [
             0.2,
             "#de77ae"
            ],
            [
             0.3,
             "#f1b6da"
            ],
            [
             0.4,
             "#fde0ef"
            ],
            [
             0.5,
             "#f7f7f7"
            ],
            [
             0.6,
             "#e6f5d0"
            ],
            [
             0.7,
             "#b8e186"
            ],
            [
             0.8,
             "#7fbc41"
            ],
            [
             0.9,
             "#4d9221"
            ],
            [
             1,
             "#276419"
            ]
           ],
           "sequential": [
            [
             0,
             "#0d0887"
            ],
            [
             0.1111111111111111,
             "#46039f"
            ],
            [
             0.2222222222222222,
             "#7201a8"
            ],
            [
             0.3333333333333333,
             "#9c179e"
            ],
            [
             0.4444444444444444,
             "#bd3786"
            ],
            [
             0.5555555555555556,
             "#d8576b"
            ],
            [
             0.6666666666666666,
             "#ed7953"
            ],
            [
             0.7777777777777778,
             "#fb9f3a"
            ],
            [
             0.8888888888888888,
             "#fdca26"
            ],
            [
             1,
             "#f0f921"
            ]
           ],
           "sequentialminus": [
            [
             0,
             "#0d0887"
            ],
            [
             0.1111111111111111,
             "#46039f"
            ],
            [
             0.2222222222222222,
             "#7201a8"
            ],
            [
             0.3333333333333333,
             "#9c179e"
            ],
            [
             0.4444444444444444,
             "#bd3786"
            ],
            [
             0.5555555555555556,
             "#d8576b"
            ],
            [
             0.6666666666666666,
             "#ed7953"
            ],
            [
             0.7777777777777778,
             "#fb9f3a"
            ],
            [
             0.8888888888888888,
             "#fdca26"
            ],
            [
             1,
             "#f0f921"
            ]
           ]
          },
          "colorway": [
           "#636efa",
           "#EF553B",
           "#00cc96",
           "#ab63fa",
           "#FFA15A",
           "#19d3f3",
           "#FF6692",
           "#B6E880",
           "#FF97FF",
           "#FECB52"
          ],
          "font": {
           "color": "#2a3f5f"
          },
          "geo": {
           "bgcolor": "white",
           "lakecolor": "white",
           "landcolor": "#E5ECF6",
           "showlakes": true,
           "showland": true,
           "subunitcolor": "white"
          },
          "hoverlabel": {
           "align": "left"
          },
          "hovermode": "closest",
          "mapbox": {
           "style": "light"
          },
          "paper_bgcolor": "white",
          "plot_bgcolor": "#E5ECF6",
          "polar": {
           "angularaxis": {
            "gridcolor": "white",
            "linecolor": "white",
            "ticks": ""
           },
           "bgcolor": "#E5ECF6",
           "radialaxis": {
            "gridcolor": "white",
            "linecolor": "white",
            "ticks": ""
           }
          },
          "scene": {
           "xaxis": {
            "backgroundcolor": "#E5ECF6",
            "gridcolor": "white",
            "gridwidth": 2,
            "linecolor": "white",
            "showbackground": true,
            "ticks": "",
            "zerolinecolor": "white"
           },
           "yaxis": {
            "backgroundcolor": "#E5ECF6",
            "gridcolor": "white",
            "gridwidth": 2,
            "linecolor": "white",
            "showbackground": true,
            "ticks": "",
            "zerolinecolor": "white"
           },
           "zaxis": {
            "backgroundcolor": "#E5ECF6",
            "gridcolor": "white",
            "gridwidth": 2,
            "linecolor": "white",
            "showbackground": true,
            "ticks": "",
            "zerolinecolor": "white"
           }
          },
          "shapedefaults": {
           "line": {
            "color": "#2a3f5f"
           }
          },
          "ternary": {
           "aaxis": {
            "gridcolor": "white",
            "linecolor": "white",
            "ticks": ""
           },
           "baxis": {
            "gridcolor": "white",
            "linecolor": "white",
            "ticks": ""
           },
           "bgcolor": "#E5ECF6",
           "caxis": {
            "gridcolor": "white",
            "linecolor": "white",
            "ticks": ""
           }
          },
          "title": {
           "x": 0.05
          },
          "xaxis": {
           "automargin": true,
           "gridcolor": "white",
           "linecolor": "white",
           "ticks": "",
           "title": {
            "standoff": 15
           },
           "zerolinecolor": "white",
           "zerolinewidth": 2
          },
          "yaxis": {
           "automargin": true,
           "gridcolor": "white",
           "linecolor": "white",
           "ticks": "",
           "title": {
            "standoff": 15
           },
           "zerolinecolor": "white",
           "zerolinewidth": 2
          }
         }
        },
        "width": 1000
       }
      },
      "text/html": [
       "<div>                            <div id=\"a1f0b051-42b0-4d9e-9880-cb56de6fb1ae\" class=\"plotly-graph-div\" style=\"height:500px; width:1000px;\"></div>            <script type=\"text/javascript\">                require([\"plotly\"], function(Plotly) {                    window.PLOTLYENV=window.PLOTLYENV || {};                                    if (document.getElementById(\"a1f0b051-42b0-4d9e-9880-cb56de6fb1ae\")) {                    Plotly.newPlot(                        \"a1f0b051-42b0-4d9e-9880-cb56de6fb1ae\",                        [{\"autocolorscale\":false,\"colorbar\":{\"title\":{\"text\":\"Percentage\"}},\"colorscale\":[[0.0,\"rgb(247,252,245)\"],[0.125,\"rgb(229,245,224)\"],[0.25,\"rgb(199,233,192)\"],[0.375,\"rgb(161,217,155)\"],[0.5,\"rgb(116,196,118)\"],[0.625,\"rgb(65,171,93)\"],[0.75,\"rgb(35,139,69)\"],[0.875,\"rgb(0,109,44)\"],[1.0,\"rgb(0,68,27)\"]],\"hoverinfo\":\"none\",\"locationmode\":\"USA-states\",\"locations\":[\"AK\",\"AL\",\"AR\",\"AZ\",\"CA\",\"CO\",\"CT\",\"DC\",\"DE\",\"FL\",\"GA\",\"HI\",\"IA\",\"ID\",\"IL\",\"IN\",\"KS\",\"KY\",\"LA\",\"MA\",\"MD\",\"ME\",\"MI\",\"MN\",\"MO\",\"MS\",\"MT\",\"NC\",\"ND\",\"NE\",\"NH\",\"NJ\",\"NM\",\"NV\",\"NY\",\"OH\",\"OK\",\"OR\",\"PA\",\"RI\",\"SC\",\"SD\",\"TN\",\"TX\",\"UT\",\"VA\",\"VT\",\"WA\",\"WI\",\"WV\",\"WY\"],\"marker\":{\"line\":{\"color\":\"black\",\"width\":0.5}},\"z\":[28.19,10.74,8.89,13.43,41.05,32.7,3.43,35.05,3.15,5.46,11.47,19.02,57.29,70.22,11.09,9.82,45.63,7.63,3.44,17.78,9.52,66.11,9.62,27.2,11.01,2.65,51.29,14.22,39.33,28.67,14.32,3.26,35.6,30.74,28.53,3.56,44.1,65.04,3.27,7.17,6.16,82.75,14.37,24.23,12.45,7.68,99.66,74.22,8.05,5.07,21.67],\"zmax\":100,\"zmin\":0,\"type\":\"choropleth\"}],                        {\"template\":{\"data\":{\"histogram2dcontour\":[{\"type\":\"histogram2dcontour\",\"colorbar\":{\"outlinewidth\":0,\"ticks\":\"\"},\"colorscale\":[[0.0,\"#0d0887\"],[0.1111111111111111,\"#46039f\"],[0.2222222222222222,\"#7201a8\"],[0.3333333333333333,\"#9c179e\"],[0.4444444444444444,\"#bd3786\"],[0.5555555555555556,\"#d8576b\"],[0.6666666666666666,\"#ed7953\"],[0.7777777777777778,\"#fb9f3a\"],[0.8888888888888888,\"#fdca26\"],[1.0,\"#f0f921\"]]}],\"choropleth\":[{\"type\":\"choropleth\",\"colorbar\":{\"outlinewidth\":0,\"ticks\":\"\"}}],\"histogram2d\":[{\"type\":\"histogram2d\",\"colorbar\":{\"outlinewidth\":0,\"ticks\":\"\"},\"colorscale\":[[0.0,\"#0d0887\"],[0.1111111111111111,\"#46039f\"],[0.2222222222222222,\"#7201a8\"],[0.3333333333333333,\"#9c179e\"],[0.4444444444444444,\"#bd3786\"],[0.5555555555555556,\"#d8576b\"],[0.6666666666666666,\"#ed7953\"],[0.7777777777777778,\"#fb9f3a\"],[0.8888888888888888,\"#fdca26\"],[1.0,\"#f0f921\"]]}],\"heatmap\":[{\"type\":\"heatmap\",\"colorbar\":{\"outlinewidth\":0,\"ticks\":\"\"},\"colorscale\":[[0.0,\"#0d0887\"],[0.1111111111111111,\"#46039f\"],[0.2222222222222222,\"#7201a8\"],[0.3333333333333333,\"#9c179e\"],[0.4444444444444444,\"#bd3786\"],[0.5555555555555556,\"#d8576b\"],[0.6666666666666666,\"#ed7953\"],[0.7777777777777778,\"#fb9f3a\"],[0.8888888888888888,\"#fdca26\"],[1.0,\"#f0f921\"]]}],\"heatmapgl\":[{\"type\":\"heatmapgl\",\"colorbar\":{\"outlinewidth\":0,\"ticks\":\"\"},\"colorscale\":[[0.0,\"#0d0887\"],[0.1111111111111111,\"#46039f\"],[0.2222222222222222,\"#7201a8\"],[0.3333333333333333,\"#9c179e\"],[0.4444444444444444,\"#bd3786\"],[0.5555555555555556,\"#d8576b\"],[0.6666666666666666,\"#ed7953\"],[0.7777777777777778,\"#fb9f3a\"],[0.8888888888888888,\"#fdca26\"],[1.0,\"#f0f921\"]]}],\"contourcarpet\":[{\"type\":\"contourcarpet\",\"colorbar\":{\"outlinewidth\":0,\"ticks\":\"\"}}],\"contour\":[{\"type\":\"contour\",\"colorbar\":{\"outlinewidth\":0,\"ticks\":\"\"},\"colorscale\":[[0.0,\"#0d0887\"],[0.1111111111111111,\"#46039f\"],[0.2222222222222222,\"#7201a8\"],[0.3333333333333333,\"#9c179e\"],[0.4444444444444444,\"#bd3786\"],[0.5555555555555556,\"#d8576b\"],[0.6666666666666666,\"#ed7953\"],[0.7777777777777778,\"#fb9f3a\"],[0.8888888888888888,\"#fdca26\"],[1.0,\"#f0f921\"]]}],\"surface\":[{\"type\":\"surface\",\"colorbar\":{\"outlinewidth\":0,\"ticks\":\"\"},\"colorscale\":[[0.0,\"#0d0887\"],[0.1111111111111111,\"#46039f\"],[0.2222222222222222,\"#7201a8\"],[0.3333333333333333,\"#9c179e\"],[0.4444444444444444,\"#bd3786\"],[0.5555555555555556,\"#d8576b\"],[0.6666666666666666,\"#ed7953\"],[0.7777777777777778,\"#fb9f3a\"],[0.8888888888888888,\"#fdca26\"],[1.0,\"#f0f921\"]]}],\"mesh3d\":[{\"type\":\"mesh3d\",\"colorbar\":{\"outlinewidth\":0,\"ticks\":\"\"}}],\"scatter\":[{\"fillpattern\":{\"fillmode\":\"overlay\",\"size\":10,\"solidity\":0.2},\"type\":\"scatter\"}],\"parcoords\":[{\"type\":\"parcoords\",\"line\":{\"colorbar\":{\"outlinewidth\":0,\"ticks\":\"\"}}}],\"scatterpolargl\":[{\"type\":\"scatterpolargl\",\"marker\":{\"colorbar\":{\"outlinewidth\":0,\"ticks\":\"\"}}}],\"bar\":[{\"error_x\":{\"color\":\"#2a3f5f\"},\"error_y\":{\"color\":\"#2a3f5f\"},\"marker\":{\"line\":{\"color\":\"#E5ECF6\",\"width\":0.5},\"pattern\":{\"fillmode\":\"overlay\",\"size\":10,\"solidity\":0.2}},\"type\":\"bar\"}],\"scattergeo\":[{\"type\":\"scattergeo\",\"marker\":{\"colorbar\":{\"outlinewidth\":0,\"ticks\":\"\"}}}],\"scatterpolar\":[{\"type\":\"scatterpolar\",\"marker\":{\"colorbar\":{\"outlinewidth\":0,\"ticks\":\"\"}}}],\"histogram\":[{\"marker\":{\"pattern\":{\"fillmode\":\"overlay\",\"size\":10,\"solidity\":0.2}},\"type\":\"histogram\"}],\"scattergl\":[{\"type\":\"scattergl\",\"marker\":{\"colorbar\":{\"outlinewidth\":0,\"ticks\":\"\"}}}],\"scatter3d\":[{\"type\":\"scatter3d\",\"line\":{\"colorbar\":{\"outlinewidth\":0,\"ticks\":\"\"}},\"marker\":{\"colorbar\":{\"outlinewidth\":0,\"ticks\":\"\"}}}],\"scattermapbox\":[{\"type\":\"scattermapbox\",\"marker\":{\"colorbar\":{\"outlinewidth\":0,\"ticks\":\"\"}}}],\"scatterternary\":[{\"type\":\"scatterternary\",\"marker\":{\"colorbar\":{\"outlinewidth\":0,\"ticks\":\"\"}}}],\"scattercarpet\":[{\"type\":\"scattercarpet\",\"marker\":{\"colorbar\":{\"outlinewidth\":0,\"ticks\":\"\"}}}],\"carpet\":[{\"aaxis\":{\"endlinecolor\":\"#2a3f5f\",\"gridcolor\":\"white\",\"linecolor\":\"white\",\"minorgridcolor\":\"white\",\"startlinecolor\":\"#2a3f5f\"},\"baxis\":{\"endlinecolor\":\"#2a3f5f\",\"gridcolor\":\"white\",\"linecolor\":\"white\",\"minorgridcolor\":\"white\",\"startlinecolor\":\"#2a3f5f\"},\"type\":\"carpet\"}],\"table\":[{\"cells\":{\"fill\":{\"color\":\"#EBF0F8\"},\"line\":{\"color\":\"white\"}},\"header\":{\"fill\":{\"color\":\"#C8D4E3\"},\"line\":{\"color\":\"white\"}},\"type\":\"table\"}],\"barpolar\":[{\"marker\":{\"line\":{\"color\":\"#E5ECF6\",\"width\":0.5},\"pattern\":{\"fillmode\":\"overlay\",\"size\":10,\"solidity\":0.2}},\"type\":\"barpolar\"}],\"pie\":[{\"automargin\":true,\"type\":\"pie\"}]},\"layout\":{\"autotypenumbers\":\"strict\",\"colorway\":[\"#636efa\",\"#EF553B\",\"#00cc96\",\"#ab63fa\",\"#FFA15A\",\"#19d3f3\",\"#FF6692\",\"#B6E880\",\"#FF97FF\",\"#FECB52\"],\"font\":{\"color\":\"#2a3f5f\"},\"hovermode\":\"closest\",\"hoverlabel\":{\"align\":\"left\"},\"paper_bgcolor\":\"white\",\"plot_bgcolor\":\"#E5ECF6\",\"polar\":{\"bgcolor\":\"#E5ECF6\",\"angularaxis\":{\"gridcolor\":\"white\",\"linecolor\":\"white\",\"ticks\":\"\"},\"radialaxis\":{\"gridcolor\":\"white\",\"linecolor\":\"white\",\"ticks\":\"\"}},\"ternary\":{\"bgcolor\":\"#E5ECF6\",\"aaxis\":{\"gridcolor\":\"white\",\"linecolor\":\"white\",\"ticks\":\"\"},\"baxis\":{\"gridcolor\":\"white\",\"linecolor\":\"white\",\"ticks\":\"\"},\"caxis\":{\"gridcolor\":\"white\",\"linecolor\":\"white\",\"ticks\":\"\"}},\"coloraxis\":{\"colorbar\":{\"outlinewidth\":0,\"ticks\":\"\"}},\"colorscale\":{\"sequential\":[[0.0,\"#0d0887\"],[0.1111111111111111,\"#46039f\"],[0.2222222222222222,\"#7201a8\"],[0.3333333333333333,\"#9c179e\"],[0.4444444444444444,\"#bd3786\"],[0.5555555555555556,\"#d8576b\"],[0.6666666666666666,\"#ed7953\"],[0.7777777777777778,\"#fb9f3a\"],[0.8888888888888888,\"#fdca26\"],[1.0,\"#f0f921\"]],\"sequentialminus\":[[0.0,\"#0d0887\"],[0.1111111111111111,\"#46039f\"],[0.2222222222222222,\"#7201a8\"],[0.3333333333333333,\"#9c179e\"],[0.4444444444444444,\"#bd3786\"],[0.5555555555555556,\"#d8576b\"],[0.6666666666666666,\"#ed7953\"],[0.7777777777777778,\"#fb9f3a\"],[0.8888888888888888,\"#fdca26\"],[1.0,\"#f0f921\"]],\"diverging\":[[0,\"#8e0152\"],[0.1,\"#c51b7d\"],[0.2,\"#de77ae\"],[0.3,\"#f1b6da\"],[0.4,\"#fde0ef\"],[0.5,\"#f7f7f7\"],[0.6,\"#e6f5d0\"],[0.7,\"#b8e186\"],[0.8,\"#7fbc41\"],[0.9,\"#4d9221\"],[1,\"#276419\"]]},\"xaxis\":{\"gridcolor\":\"white\",\"linecolor\":\"white\",\"ticks\":\"\",\"title\":{\"standoff\":15},\"zerolinecolor\":\"white\",\"automargin\":true,\"zerolinewidth\":2},\"yaxis\":{\"gridcolor\":\"white\",\"linecolor\":\"white\",\"ticks\":\"\",\"title\":{\"standoff\":15},\"zerolinecolor\":\"white\",\"automargin\":true,\"zerolinewidth\":2},\"scene\":{\"xaxis\":{\"backgroundcolor\":\"#E5ECF6\",\"gridcolor\":\"white\",\"linecolor\":\"white\",\"showbackground\":true,\"ticks\":\"\",\"zerolinecolor\":\"white\",\"gridwidth\":2},\"yaxis\":{\"backgroundcolor\":\"#E5ECF6\",\"gridcolor\":\"white\",\"linecolor\":\"white\",\"showbackground\":true,\"ticks\":\"\",\"zerolinecolor\":\"white\",\"gridwidth\":2},\"zaxis\":{\"backgroundcolor\":\"#E5ECF6\",\"gridcolor\":\"white\",\"linecolor\":\"white\",\"showbackground\":true,\"ticks\":\"\",\"zerolinecolor\":\"white\",\"gridwidth\":2}},\"shapedefaults\":{\"line\":{\"color\":\"#2a3f5f\"}},\"annotationdefaults\":{\"arrowcolor\":\"#2a3f5f\",\"arrowhead\":0,\"arrowwidth\":1},\"geo\":{\"bgcolor\":\"white\",\"landcolor\":\"#E5ECF6\",\"subunitcolor\":\"white\",\"showland\":true,\"showlakes\":true,\"lakecolor\":\"white\"},\"title\":{\"x\":0.05},\"mapbox\":{\"style\":\"light\"}}},\"geo\":{\"scope\":\"usa\",\"projection\":{\"type\":\"albers usa\"},\"showlakes\":true,\"lakecolor\":\"rgb(255, 255, 255)\"},\"font\":{\"family\":\"Times New Roman\",\"size\":18,\"color\":\"Black\"},\"margin\":{\"l\":10,\"r\":10,\"b\":10,\"t\":10,\"pad\":0},\"autosize\":true,\"width\":1000,\"height\":500},                        {\"responsive\": true}                    ).then(function(){\n",
       "                            \n",
       "var gd = document.getElementById('a1f0b051-42b0-4d9e-9880-cb56de6fb1ae');\n",
       "var x = new MutationObserver(function (mutations, observer) {{\n",
       "        var display = window.getComputedStyle(gd).display;\n",
       "        if (!display || display === 'none') {{\n",
       "            console.log([gd, 'removed!']);\n",
       "            Plotly.purge(gd);\n",
       "            observer.disconnect();\n",
       "        }}\n",
       "}});\n",
       "\n",
       "// Listen for the removal of the full notebook cells\n",
       "var notebookContainer = gd.closest('#notebook-container');\n",
       "if (notebookContainer) {{\n",
       "    x.observe(notebookContainer, {childList: true});\n",
       "}}\n",
       "\n",
       "// Listen for the clearing of the current output cell\n",
       "var outputEl = gd.closest('.output');\n",
       "if (outputEl) {{\n",
       "    x.observe(outputEl, {childList: true});\n",
       "}}\n",
       "\n",
       "                        })                };                });            </script>        </div>"
      ]
     },
     "metadata": {},
     "output_type": "display_data"
    }
   ],
   "source": [
    "import plotly.graph_objects as go\n",
    "\n",
    "import pandas as pd\n",
    "df = pd.read_csv('/Users/michael/Desktop/us_states_renewable_energy.csv')\n",
    "\n",
    "# Convert the 'State' column to string type for consistency\n",
    "df['State'] = df['State'].astype(str)\n",
    "\n",
    "# Create the choropleth map\n",
    "fig = go.Figure(data=go.Choropleth(\n",
    "    locations=df['State'],  # Use the 'State' column for state codes\n",
    "    z=df['Percentage Renewable'].astype(float),  # Use the 'Percentage Renewable' column for the color scale\n",
    "    locationmode='USA-states',  # Set the location mode to 'USA-states'\n",
    "    colorscale='Greens',  # Changed the colorscale to 'Greens' for a more thematic fit\n",
    "    autocolorscale=False,\n",
    "    zmin=0,  # Set the minimum value of the color scale\n",
    "    zmax=100,  # Set the maximum value of the color scale\n",
    "    hoverinfo='none',  # This part is new\n",
    "    marker_line_color='black',  # Line markers between states\n",
    "    marker_line_width=0.5,  # Outline thickness\n",
    "    colorbar_title=\"Percentage\"\n",
    "))\n",
    "\n",
    "# Update the layout for the new data\n",
    "fig.update_layout(\n",
    "    geo=dict(\n",
    "        scope='usa',  # Limit map scope to USA\n",
    "        projection=go.layout.geo.Projection(type='albers usa'),  # Use Albers projection\n",
    "        showlakes=True,  # Show lakes\n",
    "        lakecolor='rgb(255, 255, 255)'  # Set lake color\n",
    "    ),\n",
    "    autosize=True,\n",
    "    width=1000,\n",
    "    height=500,\n",
    "    font=dict(\n",
    "        family=\"Times New Roman\",\n",
    "        size=18,\n",
    "        color=\"Black\"\n",
    "    ),\n",
    "    margin=dict(  # This part is new\n",
    "        l=10,  # Left margin\n",
    "        r=10,  # Right margin\n",
    "        b=10,  # Bottom margin\n",
    "        t=10,  # Top margin\n",
    "        pad=0  # Padding\n",
    "    )\n",
    ")\n",
    "\n",
    "# Show the figure\n",
    "fig.show()"
   ]
  }
 ],
 "metadata": {
  "kernelspec": {
   "display_name": "Python 3",
   "language": "python",
   "name": "python3"
  },
  "language_info": {
   "codemirror_mode": {
    "name": "ipython",
    "version": 3
   },
   "file_extension": ".py",
   "mimetype": "text/x-python",
   "name": "python",
   "nbconvert_exporter": "python",
   "pygments_lexer": "ipython3",
   "version": "3.10.9"
  },
  "orig_nbformat": 4
 },
 "nbformat": 4,
 "nbformat_minor": 2
}
